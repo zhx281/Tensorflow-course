{
  "nbformat": 4,
  "nbformat_minor": 0,
  "metadata": {
    "colab": {
      "name": "Basic_Exercise_v1.ipynb",
      "version": "0.3.2",
      "provenance": [],
      "collapsed_sections": []
    },
    "kernelspec": {
      "name": "python3",
      "display_name": "Python 3"
    },
    "accelerator": "GPU"
  },
  "cells": [
    {
      "cell_type": "markdown",
      "metadata": {
        "id": "U60bzCD2dK5s",
        "colab_type": "text"
      },
      "source": [
        "# Prefix\n",
        "Withis this notebook, you will see the exercise from week 1 to week 3 from the [Introduction to TensorFlow for Artificial Intelligence, Machine Learning, and Deep Learning](https://www.coursera.org/learn/introduction-tensorflow) course on Coursea.org.\n",
        "\n",
        "- The first exercise is a simple regression problem.\n",
        "- The second exercise is a classification problem.\n",
        "- The third exercise is another classification problem."
      ]
    },
    {
      "cell_type": "markdown",
      "metadata": {
        "id": "1Mp2qdk4eL3f",
        "colab_type": "text"
      },
      "source": [
        "# Excercise 1: Predicting Housing Prices\n",
        "In this excerise you are going to using a neural network to predict the prices of house with a simple formula.\n",
        "\n",
        "Note: The house's price is scaled down to 'hundreds of thousands'."
      ]
    },
    {
      "cell_type": "code",
      "metadata": {
        "id": "xxU3u807dBi0",
        "colab_type": "code",
        "colab": {}
      },
      "source": [
        "# import the dependancies\n",
        "import tensorflow as tf\n",
        "import numpy as np"
      ],
      "execution_count": 0,
      "outputs": []
    },
    {
      "cell_type": "code",
      "metadata": {
        "id": "VOfHImA2fQYY",
        "colab_type": "code",
        "outputId": "7944ec6a-5c68-4c81-f275-562a1d422a16",
        "colab": {
          "base_uri": "https://localhost:8080/",
          "height": 105
        }
      },
      "source": [
        "# building a simple neural network\n",
        "model = tf.keras.models.Sequential([\n",
        "    tf.keras.layers.Dense(1, input_shape=(1,))\n",
        "])\n",
        "model.compile(loss='mse', optimizer='sgd')"
      ],
      "execution_count": 0,
      "outputs": [
        {
          "output_type": "stream",
          "text": [
            "WARNING: Logging before flag parsing goes to stderr.\n",
            "W0617 17:32:19.033728 139981157099392 deprecation.py:506] From /usr/local/lib/python3.6/dist-packages/tensorflow/python/ops/init_ops.py:1251: calling VarianceScaling.__init__ (from tensorflow.python.ops.init_ops) with dtype is deprecated and will be removed in a future version.\n",
            "Instructions for updating:\n",
            "Call initializer instance with the dtype argument instead of passing it to the constructor\n"
          ],
          "name": "stderr"
        }
      ]
    },
    {
      "cell_type": "code",
      "metadata": {
        "id": "iLdrhsNGfyY2",
        "colab_type": "code",
        "colab": {}
      },
      "source": [
        "# creating some data where:\n",
        "# x is the number of rooms\n",
        "# y is the price of the house\n",
        "x = np.array([1,2,3,4,5,6], dtype=np.float32)\n",
        "y = np.array([10,15,20,25,30,35], dtype=np.float32)"
      ],
      "execution_count": 0,
      "outputs": []
    },
    {
      "cell_type": "code",
      "metadata": {
        "id": "Tq6fcdoVgQII",
        "colab_type": "code",
        "outputId": "d939b5e5-b93c-4069-8f91-e63121110b9b",
        "colab": {
          "base_uri": "https://localhost:8080/",
          "height": 34
        }
      },
      "source": [
        "# training the model with the data\n",
        "# not display any epochs with verbose=0\n",
        "model.fit(x, y, epochs=1000, verbose=0)"
      ],
      "execution_count": 0,
      "outputs": [
        {
          "output_type": "execute_result",
          "data": {
            "text/plain": [
              "<tensorflow.python.keras.callbacks.History at 0x7f4f9d8480b8>"
            ]
          },
          "metadata": {
            "tags": []
          },
          "execution_count": 6
        }
      ]
    },
    {
      "cell_type": "code",
      "metadata": {
        "id": "ByjOdOkLgZZf",
        "colab_type": "code",
        "outputId": "d287c3a1-699f-4b2e-f66b-e08afbb690f7",
        "colab": {
          "base_uri": "https://localhost:8080/",
          "height": 34
        }
      },
      "source": [
        "# predict the price for 7 bedrooms\n",
        "# expect to be around 40.0 k\n",
        "print(model.predict([[7.0]]))"
      ],
      "execution_count": 0,
      "outputs": [
        {
          "output_type": "stream",
          "text": [
            "[[40.06134]]\n"
          ],
          "name": "stdout"
        }
      ]
    },
    {
      "cell_type": "markdown",
      "metadata": {
        "id": "FngLOHTWhC_X",
        "colab_type": "text"
      },
      "source": [
        "# Exercise 2: MNIST\n",
        "The MNIST dataset containing small size image of hand writing digits from 0 to 9. It is a perfect exercise for a simple classification problem."
      ]
    },
    {
      "cell_type": "code",
      "metadata": {
        "id": "g3y0G6dogx80",
        "colab_type": "code",
        "colab": {}
      },
      "source": [
        "import tensorflow as tf"
      ],
      "execution_count": 0,
      "outputs": []
    },
    {
      "cell_type": "code",
      "metadata": {
        "id": "9GbUUKlpiRdM",
        "colab_type": "code",
        "colab": {}
      },
      "source": [
        "# importing the Fashion MNIST dataset\n",
        "from tensorflow.keras.datasets import mnist\n",
        "\n",
        "# load the MNIST dataset to train and test\n",
        "(x_train, y_train), (x_test, y_test) = mnist.load_data()"
      ],
      "execution_count": 0,
      "outputs": []
    },
    {
      "cell_type": "code",
      "metadata": {
        "id": "UWr9L5I6kNi8",
        "colab_type": "code",
        "colab": {}
      },
      "source": [
        "# normalizing the image 1./255.\n",
        "if x_train.max() > 1:\n",
        "  x_train = x_train/255.\n",
        "if x_test.max() > 1:\n",
        "  x_test = x_test/255."
      ],
      "execution_count": 0,
      "outputs": []
    },
    {
      "cell_type": "code",
      "metadata": {
        "id": "1N7OoI1Di5GN",
        "colab_type": "code",
        "colab": {}
      },
      "source": [
        "# building the model\n",
        "model = tf.keras.models.Sequential([\n",
        "    tf.keras.layers.Flatten(),\n",
        "    tf.keras.layers.Dense(512, activation='relu'),\n",
        "    tf.keras.layers.Dense(10, activation='softmax'),\n",
        "])\n",
        "\n",
        "model.compile(loss='sparse_categorical_crossentropy',\n",
        "              optimizer='adam',\n",
        "              metrics=['acc'])"
      ],
      "execution_count": 0,
      "outputs": []
    },
    {
      "cell_type": "code",
      "metadata": {
        "id": "VD8XSGYWjgPT",
        "colab_type": "code",
        "colab": {}
      },
      "source": [
        "# Creating a stop function when training accuracy is reaches 99%\n",
        "class myCallback(tf.keras.callbacks.Callback):\n",
        "  def __init__(self, p=.99):\n",
        "    self.p = p\n",
        "  def on_epoch_end(self, epoch, logs={}):\n",
        "    if logs.get('acc') > self.p:\n",
        "      print(\"\\nTraining accuarcy above {:.2f}%, training STOPPED!\".format(self.p*100))\n",
        "      self.model.stop_training = True"
      ],
      "execution_count": 0,
      "outputs": []
    },
    {
      "cell_type": "code",
      "metadata": {
        "id": "Hgw7KYurkgPN",
        "colab_type": "code",
        "outputId": "450eaa3c-8418-4eda-c56f-93bf8ca8a5eb",
        "colab": {
          "base_uri": "https://localhost:8080/",
          "height": 255
        }
      },
      "source": [
        "# creat callbacks\n",
        "callbacks = myCallback()\n",
        "# trainingt the model\n",
        "model.fit(x_train, y_train, \n",
        "          epochs=20,\n",
        "          validation_data=(x_test, y_test),\n",
        "          callbacks=[callbacks])"
      ],
      "execution_count": 0,
      "outputs": [
        {
          "output_type": "stream",
          "text": [
            "Train on 60000 samples, validate on 10000 samples\n",
            "Epoch 1/20\n",
            "60000/60000 [==============================] - 5s 76us/sample - loss: 0.2021 - acc: 0.9414 - val_loss: 0.0925 - val_acc: 0.9718\n",
            "Epoch 2/20\n",
            "60000/60000 [==============================] - 5s 76us/sample - loss: 0.0811 - acc: 0.9751 - val_loss: 0.0787 - val_acc: 0.9756\n",
            "Epoch 3/20\n",
            "60000/60000 [==============================] - 4s 75us/sample - loss: 0.0523 - acc: 0.9833 - val_loss: 0.0664 - val_acc: 0.9782\n",
            "Epoch 4/20\n",
            "60000/60000 [==============================] - 4s 74us/sample - loss: 0.0364 - acc: 0.9884 - val_loss: 0.0672 - val_acc: 0.9808\n",
            "Epoch 5/20\n",
            "59648/60000 [============================>.] - ETA: 0s - loss: 0.0277 - acc: 0.9908\n",
            "Training accuarcy above 99%, training STOPPED!\n",
            "60000/60000 [==============================] - 4s 74us/sample - loss: 0.0276 - acc: 0.9908 - val_loss: 0.0643 - val_acc: 0.9814\n"
          ],
          "name": "stdout"
        },
        {
          "output_type": "execute_result",
          "data": {
            "text/plain": [
              "<tensorflow.python.keras.callbacks.History at 0x7f4f44bf12b0>"
            ]
          },
          "metadata": {
            "tags": []
          },
          "execution_count": 26
        }
      ]
    },
    {
      "cell_type": "markdown",
      "metadata": {
        "id": "za6_pFeHm4Oa",
        "colab_type": "text"
      },
      "source": [
        "# Exercise 3: Improve MNIST\n",
        "In this exercise we are going to improve on the accuracy of the model with Convolutional layers and Pooling layers."
      ]
    },
    {
      "cell_type": "code",
      "metadata": {
        "id": "iz1139X8lv1z",
        "colab_type": "code",
        "colab": {}
      },
      "source": [
        "# Building the model with convolutional layers and maxpooling layers\n",
        "model = tf.keras.models.Sequential([\n",
        "  tf.keras.layers.Conv2D(32, (3,3), activation='relu'),\n",
        "  tf.keras.layers.MaxPooling2D(2,2),\n",
        "  tf.keras.layers.Conv2D(32, (3,3), activation='relu'),\n",
        "  tf.keras.layers.MaxPooling2D(2,2),\n",
        "  tf.keras.layers.Flatten(),\n",
        "  tf.keras.layers.Dense(128, activation='relu'),\n",
        "  tf.keras.layers.Dense(10, activation='softmax')\n",
        "])\n",
        "\n",
        "model.compile(loss='sparse_categorical_crossentropy',\n",
        "              optimizer='adam',\n",
        "              metrics=['acc'])"
      ],
      "execution_count": 0,
      "outputs": []
    },
    {
      "cell_type": "code",
      "metadata": {
        "id": "ZLn-abX4oWNg",
        "colab_type": "code",
        "colab": {}
      },
      "source": [
        "# reshaping the data to (None, 28, 28, 1)\n",
        "x_train = x_train.reshape(-1, 28, 28, 1)\n",
        "x_test = x_test.reshape(-1, 28, 28, 1)"
      ],
      "execution_count": 0,
      "outputs": []
    },
    {
      "cell_type": "code",
      "metadata": {
        "id": "-k9SffRIqoZA",
        "colab_type": "code",
        "outputId": "f9f2d74a-e4a7-4ad5-87b0-92ba5177c01f",
        "colab": {
          "base_uri": "https://localhost:8080/",
          "height": 119
        }
      },
      "source": [
        "# callbacks stop training when 99.8% accuracy is reached\n",
        "callbacks = myCallback(p=.998)\n",
        "# training the model\n",
        "model.fit(x_train, y_train,\n",
        "          epochs=20,\n",
        "          validation_data=(x_test, y_test),\n",
        "          callbacks=[callbacks])"
      ],
      "execution_count": 0,
      "outputs": [
        {
          "output_type": "stream",
          "text": [
            "Train on 60000 samples, validate on 10000 samples\n",
            "Epoch 1/20\n",
            "59808/60000 [============================>.] - ETA: 0s - loss: 0.0049 - acc: 0.9983\n",
            "Training accuarcy above 99.80%, training STOPPED!\n",
            "60000/60000 [==============================] - 7s 111us/sample - loss: 0.0049 - acc: 0.9983 - val_loss: 0.0388 - val_acc: 0.9908\n"
          ],
          "name": "stdout"
        },
        {
          "output_type": "execute_result",
          "data": {
            "text/plain": [
              "<tensorflow.python.keras.callbacks.History at 0x7f4f445bdd30>"
            ]
          },
          "metadata": {
            "tags": []
          },
          "execution_count": 39
        }
      ]
    }
  ]
}