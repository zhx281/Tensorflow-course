{
  "nbformat": 4,
  "nbformat_minor": 0,
  "metadata": {
    "colab": {
      "name": "Dog_vs_Cat_v2.ipynb",
      "version": "0.3.2",
      "provenance": [],
      "collapsed_sections": []
    },
    "kernelspec": {
      "name": "python3",
      "display_name": "Python 3"
    },
    "accelerator": "GPU"
  },
  "cells": [
    {
      "cell_type": "code",
      "metadata": {
        "id": "TNMXAstzjuuJ",
        "colab_type": "code",
        "colab": {}
      },
      "source": [
        "# if tensorflow 2.0 beta with gpu is not install install it\n",
        "v = ! pip list | grep tensorflow-gpu\n",
        "if len(v) == 0:\n",
        "  ! pip install tensorflow-gpu==2.0.0-beta0\n",
        "elif v[0].split()[-1] != '2.0.0b0':\n",
        "  ! pip install tensorflow-gpu==2.0.0-beta0\n",
        "else:\n",
        "  print('You already installed tensorflow 2.0 beta')"
      ],
      "execution_count": 0,
      "outputs": []
    },
    {
      "cell_type": "code",
      "metadata": {
        "id": "6gEKssaIQSqu",
        "colab_type": "code",
        "colab": {}
      },
      "source": [
        "# install piexif to fix images\n",
        "xf = ! pip list | grep piexif\n",
        "if len(xf) == 0:\n",
        "  ! pip install piexif\n",
        "else:\n",
        "  print('piexif library already installed')"
      ],
      "execution_count": 0,
      "outputs": []
    },
    {
      "cell_type": "markdown",
      "metadata": {
        "id": "0kdiB1CBjBtS",
        "colab_type": "text"
      },
      "source": [
        "# Prefix\n",
        "In this notebook, it is a continuation of the Dog_vs_Cat_v1 notebook. We are going to improve on the preprocessing method of the dataset to achieve a better result on the validation accuracy and improve on the overfitting problem."
      ]
    },
    {
      "cell_type": "code",
      "metadata": {
        "id": "ZLUu2mD8l1NE",
        "colab_type": "code",
        "colab": {}
      },
      "source": [
        "# import all dependencies\n",
        "import os\n",
        "import random\n",
        "import zipfile\n",
        "import piexif\n",
        "import tensorflow as tf\n",
        "from tensorflow.keras.layers import Dense, Flatten, Conv2D, MaxPooling2D, Input\n",
        "from tensorflow.keras.models import Model\n",
        "from shutil import copyfile, rmtree\n",
        "from PIL import Image"
      ],
      "execution_count": 0,
      "outputs": []
    },
    {
      "cell_type": "markdown",
      "metadata": {
        "id": "xoAW0hXNjfGV",
        "colab_type": "text"
      },
      "source": [
        "# Step - 1: Loading the Data\n",
        "We will be downloading and extracting the cats vs dogs dataset from the kaggle challenge. This is a dataset that contains 12,501 cats images and 12,501 dogs images. "
      ]
    },
    {
      "cell_type": "code",
      "metadata": {
        "id": "fqMRs0J5mXpc",
        "colab_type": "code",
        "colab": {}
      },
      "source": [
        "# download and extract the Cats-v-Dogs in the /tmp directory\n",
        "if os.path.exists('/tmp/cats-and-dogs.zip'):\n",
        "  print('cats-and-dogs.zip already downloaded and extracted to the /tmp directory')\n",
        "  fix = False\n",
        "else:\n",
        "  ! wget --no-check-certificate \\\n",
        "    \"https://download.microsoft.com/download/3/E/1/3E1C3F21-ECDB-4869-8368-6DEBA77B919F/kagglecatsanddogs_3367a.zip\" \\\n",
        "    -O \"/tmp/cats-and-dogs.zip\"\n",
        "  \n",
        "  # extracting the zip with zipfile\n",
        "  local_zip = '/tmp/cats-and-dogs.zip'\n",
        "  zip_ref = zipfile.ZipFile(local_zip, 'r')\n",
        "  zip_ref.extractall('/tmp')\n",
        "  zip_ref.close()\n",
        "  fix = True"
      ],
      "execution_count": 0,
      "outputs": []
    },
    {
      "cell_type": "code",
      "metadata": {
        "id": "wyisvp0ppmfY",
        "colab_type": "code",
        "colab": {
          "base_uri": "https://localhost:8080/",
          "height": 51
        },
        "outputId": "f43f72d2-24a7-4825-f9bf-4697a161d398"
      },
      "source": [
        "cats = '/tmp/PetImages/Cat/'\n",
        "dogs = '/tmp/PetImages/Dog/'\n",
        "\n",
        "# verify the extraction is complete\n",
        "# expected to have 12501 images in each of the directory\n",
        "print('Number of images in Cat directory:', len(os.listdir('/tmp/PetImages/Cat/')))\n",
        "print('Number of images in Dog directory:', len(os.listdir('/tmp/PetImages/Dog/')))"
      ],
      "execution_count": 5,
      "outputs": [
        {
          "output_type": "stream",
          "text": [
            "Number of images in Cat directory: 12501\n",
            "Number of images in Dog directory: 12501\n"
          ],
          "name": "stdout"
        }
      ]
    },
    {
      "cell_type": "markdown",
      "metadata": {
        "id": "mm7EfQ4nkM0r",
        "colab_type": "text"
      },
      "source": [
        "### Fixing file corruption or error\n",
        "Before splitting the dataset we will be fixing some error with in the image's data type and format. \n",
        "\n",
        "Note: If you don't fix this error, the model still would train normally, but the images with the error would be skipped. "
      ]
    },
    {
      "cell_type": "code",
      "metadata": {
        "id": "VbbSqcZuQr-r",
        "colab_type": "code",
        "colab": {}
      },
      "source": [
        "# method for removing the exif data from image\n",
        "def remove_exif(files):\n",
        "  for f in os.listdir(files):\n",
        "    if f.lower().endswith('.jpg'):\n",
        "      try:\n",
        "          piexif.remove(files+f)\n",
        "      except:\n",
        "        if os.path.getsize(files+f) > 0:\n",
        "          im = Image.open(files+f)\n",
        "          if im.mode != 'RGB':\n",
        "            im = im.convert('RGB')\n",
        "          im.save(files+f, 'JPEG')\n",
        "          piexif.remove(files+f)\n",
        "        else:\n",
        "          print('ignored', f)\n",
        "        pass\n",
        "    else:\n",
        "      print('not jpg', f)"
      ],
      "execution_count": 0,
      "outputs": []
    },
    {
      "cell_type": "code",
      "metadata": {
        "id": "Y3zPoNBTRDe5",
        "colab_type": "code",
        "colab": {
          "base_uri": "https://localhost:8080/",
          "height": 136
        },
        "outputId": "8e4908c0-340a-42e5-e083-51f458b534f2"
      },
      "source": [
        "# use this to fix the EXIF error that is going to occur during training\n",
        "if fix:\n",
        "  print('This migth going to take a while')\n",
        "  print('Going to fix the Cat directory')\n",
        "  remove_exif(cats)\n",
        "  print('now time to fix the Dog directory')\n",
        "  remove_exif(dogs)\n",
        "  fix = False\n",
        "else:\n",
        "  print('Images already fixed')"
      ],
      "execution_count": 7,
      "outputs": [
        {
          "output_type": "stream",
          "text": [
            "This is going to take a while\n",
            "Going to fix the Cat directory\n",
            "ignored 666.jpg\n",
            "not jpg Thumbs.db\n",
            "now time to fix the Dog directory\n",
            "not jpg Thumbs.db\n",
            "ignored 11702.jpg\n"
          ],
          "name": "stdout"
        }
      ]
    },
    {
      "cell_type": "markdown",
      "metadata": {
        "id": "TwvlhngYk1x-",
        "colab_type": "text"
      },
      "source": [
        "### Split the Dataset into Training and Testing\n",
        "We will be creating the proper directories to store the splitted data in. "
      ]
    },
    {
      "cell_type": "code",
      "metadata": {
        "id": "omdDZ_pDqELP",
        "colab_type": "code",
        "colab": {}
      },
      "source": [
        "# helper functions for creating tree directory to split the dataset into \n",
        "# training and testing\n",
        "def directory_tree(main, sub, ssub):\n",
        "  sub_dic = {}\n",
        "  # checking if the sub directory and ssub directory is a list\n",
        "  assert isinstance(sub, list), '{} must be a list of directory names'.format(sub)\n",
        "  assert isinstance(ssub, list), '{} must be a list of directory names'.format(ssub)\n",
        "  # creating a python dictionary containing th names of the directory tree\n",
        "  for s in sub:\n",
        "    sub_dic[s] = ssub\n",
        "  return {main: sub_dic}\n",
        "\n",
        "def make_directory(path):\n",
        "  if not os.path.exists(path):\n",
        "    os.mkdir(path)\n",
        "    print(path, 'successfully created!')\n",
        "  else:\n",
        "    print(path, \"directory already exists!\")\n",
        "\n",
        "# checking to if the directory exists if not create the directory\n",
        "def create_directory(dictionary, root_dir='/tmp/'):\n",
        "  for main_dir in dictionary.keys():\n",
        "    main_path = root_dir+main_dir\n",
        "    make_directory(main_path)\n",
        "    for sub_dir in dictionary[main_dir].keys():\n",
        "      sub_path = main_path+sub_dir\n",
        "      make_directory(sub_path)\n",
        "      for ssub_dir in dictionary[main_dir][sub_dir]:\n",
        "        ssub_path = sub_path+ssub_dir\n",
        "        make_directory(ssub_path)\n",
        "\n",
        "\n",
        "# splitting the data into the training and testing set\n",
        "# then copying it to the proper directory\n",
        "def split_data(SOURCE, TRAINING, TESTING, SPLIT_SIZE):\n",
        "  source = []\n",
        "  # list all image in the SOURCE then check if the image size \n",
        "  # greater than 0 if is append to source list\n",
        "  # else print the image file will be ignored\n",
        "  for image in os.listdir(SOURCE):\n",
        "    if os.path.getsize(SOURCE+image) > 0:\n",
        "      source.append(image)\n",
        "    else:\n",
        "      print(image, \"has zero file size, will be ignored\")\n",
        "  \n",
        "  # find the place to split the list\n",
        "  split = int(len(source)*SPLIT_SIZE)\n",
        "  # randomize the list\n",
        "  random_list = random.sample(source, len(source))\n",
        "  \n",
        "  # copy the images to their proper destination\n",
        "  for i, image in enumerate(random_list):\n",
        "    file_path = SOURCE+image\n",
        "    if i < split:\n",
        "      copyfile(file_path, TRAINING+image)\n",
        "    else:\n",
        "      copyfile(file_path, TESTING+image)    "
      ],
      "execution_count": 0,
      "outputs": []
    },
    {
      "cell_type": "code",
      "metadata": {
        "id": "Ft8pKLLbs1rr",
        "colab_type": "code",
        "colab": {
          "base_uri": "https://localhost:8080/",
          "height": 136
        },
        "outputId": "085ad686-f7ab-416b-ccfd-2fe6dd42c57a"
      },
      "source": [
        "# creating the directory tree\n",
        "main = 'cats-v-dogs/'\n",
        "sub=['training/', 'testing/']\n",
        "ssub = ['cats/', 'dogs/']\n",
        "\n",
        "# first check if the directory exists in the /tmp directory\n",
        "# if it does remove it for data consistence\n",
        "if os.path.exists('/tmp/'+main):\n",
        "  rmtree('/tmp/'+main')\n",
        "\n",
        "# now creating the necessary directory \n",
        "# and copying the image to the proper directory\n",
        "tree = directory_tree(main, sub, ssub)\n",
        "create_directory(tree)"
      ],
      "execution_count": 9,
      "outputs": [
        {
          "output_type": "stream",
          "text": [
            "/tmp/cats-v-dogs/ successfully created!\n",
            "/tmp/cats-v-dogs/training/ successfully created!\n",
            "/tmp/cats-v-dogs/training/cats/ successfully created!\n",
            "/tmp/cats-v-dogs/training/dogs/ successfully created!\n",
            "/tmp/cats-v-dogs/testing/ successfully created!\n",
            "/tmp/cats-v-dogs/testing/cats/ successfully created!\n",
            "/tmp/cats-v-dogs/testing/dogs/ successfully created!\n"
          ],
          "name": "stdout"
        }
      ]
    },
    {
      "cell_type": "code",
      "metadata": {
        "id": "KzieFpP4s9sb",
        "colab_type": "code",
        "colab": {
          "base_uri": "https://localhost:8080/",
          "height": 51
        },
        "outputId": "1917c31f-c943-4f25-b3bf-66ef42cb7076"
      },
      "source": [
        "# now copying the image to the proper folders\n",
        "CAT_SOURCE_DIR = \"/tmp/PetImages/Cat/\"\n",
        "TRAINING_CATS_DIR = \"/tmp/cats-v-dogs/training/cats/\"\n",
        "TESTING_CATS_DIR = \"/tmp/cats-v-dogs/testing/cats/\"\n",
        "DOG_SOURCE_DIR = \"/tmp/PetImages/Dog/\"\n",
        "TRAINING_DOGS_DIR = \"/tmp/cats-v-dogs/training/dogs/\"\n",
        "TESTING_DOGS_DIR = \"/tmp/cats-v-dogs/testing/dogs/\"\n",
        "\n",
        "split_size = .9\n",
        "split_data(CAT_SOURCE_DIR, TRAINING_CATS_DIR, TESTING_CATS_DIR, split_size)\n",
        "split_data(DOG_SOURCE_DIR, TRAINING_DOGS_DIR, TESTING_DOGS_DIR, split_size)"
      ],
      "execution_count": 10,
      "outputs": [
        {
          "output_type": "stream",
          "text": [
            "666.jpg has zero file size, will be ignored\n",
            "11702.jpg has zero file size, will be ignored\n"
          ],
          "name": "stdout"
        }
      ]
    },
    {
      "cell_type": "code",
      "metadata": {
        "id": "-Q101LPzyexn",
        "colab_type": "code",
        "colab": {
          "base_uri": "https://localhost:8080/",
          "height": 85
        },
        "outputId": "fc6c9a4e-014e-4181-8394-82c581de20e9"
      },
      "source": [
        "# checking to see if we copy the image correctly\n",
        "# Expected outpu: 11250 for training 1250 for testing\n",
        "print(len(os.listdir('/tmp/cats-v-dogs/training/cats/')))\n",
        "print(len(os.listdir('/tmp/cats-v-dogs/training/dogs/')))\n",
        "print(len(os.listdir('/tmp/cats-v-dogs/testing/cats/')))\n",
        "print(len(os.listdir('/tmp/cats-v-dogs/testing/dogs/')))"
      ],
      "execution_count": 11,
      "outputs": [
        {
          "output_type": "stream",
          "text": [
            "11250\n",
            "11250\n",
            "1250\n",
            "1250\n"
          ],
          "name": "stdout"
        }
      ]
    },
    {
      "cell_type": "markdown",
      "metadata": {
        "id": "tZA_V7BYlH--",
        "colab_type": "text"
      },
      "source": [
        "# Step - 2: Building the Model\n"
      ]
    },
    {
      "cell_type": "code",
      "metadata": {
        "id": "SKGneIyozCQH",
        "colab_type": "code",
        "colab": {}
      },
      "source": [
        "# creating the model\n",
        "_input = Input((150,150,3))\n",
        "x = Conv2D(16, (3,3), activation='relu')(_input)\n",
        "x = MaxPooling2D(2,2)(x)\n",
        "x = Conv2D(32, (3,3), activation='relu')(x)\n",
        "x = MaxPooling2D(2,2)(x)\n",
        "x = Conv2D(64, (3,3), activation='relu')(x)\n",
        "x = MaxPooling2D(2,2)(x)\n",
        "x = Flatten()(x)\n",
        "x = Dense(512, activation='relu')(x)\n",
        "output = Dense(1, activation='sigmoid')(x)\n",
        "\n",
        "model = Model(_input, output)\n",
        "\n",
        "model.compile(optimizer='adam', \n",
        "              loss='binary_crossentropy', \n",
        "              metrics=['acc'])"
      ],
      "execution_count": 0,
      "outputs": []
    },
    {
      "cell_type": "code",
      "metadata": {
        "id": "QTenFYA0AfR2",
        "colab_type": "code",
        "colab": {
          "base_uri": "https://localhost:8080/",
          "height": 493
        },
        "outputId": "ab2629d9-da31-4de3-becc-6d08a3e2ef30"
      },
      "source": [
        "model.summary()"
      ],
      "execution_count": 13,
      "outputs": [
        {
          "output_type": "stream",
          "text": [
            "Model: \"model\"\n",
            "_________________________________________________________________\n",
            "Layer (type)                 Output Shape              Param #   \n",
            "=================================================================\n",
            "input_1 (InputLayer)         [(None, 150, 150, 3)]     0         \n",
            "_________________________________________________________________\n",
            "conv2d (Conv2D)              (None, 148, 148, 16)      448       \n",
            "_________________________________________________________________\n",
            "max_pooling2d (MaxPooling2D) (None, 74, 74, 16)        0         \n",
            "_________________________________________________________________\n",
            "conv2d_1 (Conv2D)            (None, 72, 72, 32)        4640      \n",
            "_________________________________________________________________\n",
            "max_pooling2d_1 (MaxPooling2 (None, 36, 36, 32)        0         \n",
            "_________________________________________________________________\n",
            "conv2d_2 (Conv2D)            (None, 34, 34, 64)        18496     \n",
            "_________________________________________________________________\n",
            "max_pooling2d_2 (MaxPooling2 (None, 17, 17, 64)        0         \n",
            "_________________________________________________________________\n",
            "flatten (Flatten)            (None, 18496)             0         \n",
            "_________________________________________________________________\n",
            "dense (Dense)                (None, 512)               9470464   \n",
            "_________________________________________________________________\n",
            "dense_1 (Dense)              (None, 1)                 513       \n",
            "=================================================================\n",
            "Total params: 9,494,561\n",
            "Trainable params: 9,494,561\n",
            "Non-trainable params: 0\n",
            "_________________________________________________________________\n"
          ],
          "name": "stdout"
        }
      ]
    },
    {
      "cell_type": "markdown",
      "metadata": {
        "id": "UUH9xwRulOQU",
        "colab_type": "text"
      },
      "source": [
        "# Step - 3: Preprocessing the Data \n",
        "This part of the notebook is a little different from the previous version. We will be using the ImageDataGenerator's augmentation argments to create more samples of image to train the model with in order to minimize overfitting without modifing the orginal file. Those augmentation include `rescale`, `rotation_range`, `width_shift_range`, `height_shift_range`, `shear_range`, `zoom_range`, `horizontal_flip`, and `fill_mode`."
      ]
    },
    {
      "cell_type": "code",
      "metadata": {
        "id": "L71Tn9Q_AkPA",
        "colab_type": "code",
        "colab": {
          "base_uri": "https://localhost:8080/",
          "height": 51
        },
        "outputId": "932622d3-a131-486f-e329-25bd694a7046"
      },
      "source": [
        "from tensorflow.keras.preprocessing.image import ImageDataGenerator \n",
        "# generating the datasets with mulitply augmentations\n",
        "datagen = ImageDataGenerator(rescale=1./255.,\n",
        "                             rotation_range=40,\n",
        "                             width_shift_range=0.2,\n",
        "                             height_shift_range=0.2,\n",
        "                             shear_range=0.2,\n",
        "                             zoom_range=0.2,\n",
        "                             horizontal_flip=True,\n",
        "                             fill_mode='nearest')\n",
        "\n",
        "TRAINING_DIR = '/tmp/cats-v-dogs/training'\n",
        "train_generator = datagen.flow_from_directory(TRAINING_DIR,\n",
        "                                              target_size=(150,150),\n",
        "                                              class_mode='binary',\n",
        "                                              batch_size=100)\n",
        "\n",
        "VALIDATION_DIR = '/tmp/cats-v-dogs/testing'\n",
        "validation_generator = datagen.flow_from_directory(VALIDATION_DIR,\n",
        "                                                   target_size=(150,150),\n",
        "                                                   class_mode='binary',\n",
        "                                                   batch_size=100)"
      ],
      "execution_count": 14,
      "outputs": [
        {
          "output_type": "stream",
          "text": [
            "Found 22498 images belonging to 2 classes.\n",
            "Found 2500 images belonging to 2 classes.\n"
          ],
          "name": "stdout"
        }
      ]
    },
    {
      "cell_type": "markdown",
      "metadata": {
        "id": "xojk1R9ymh0X",
        "colab_type": "text"
      },
      "source": [
        "# Step - 4: Training\n",
        "Training the model with 15 epochs."
      ]
    },
    {
      "cell_type": "code",
      "metadata": {
        "id": "vaoAaxUKB8xL",
        "colab_type": "code",
        "colab": {
          "base_uri": "https://localhost:8080/",
          "height": 615
        },
        "outputId": "c753ffd0-738e-4af3-f8d2-d95d2adfdfd7"
      },
      "source": [
        "history = model.fit_generator(train_generator,\n",
        "                              epochs=15, \n",
        "                              verbose=1,\n",
        "                              validation_data=validation_generator)"
      ],
      "execution_count": 15,
      "outputs": [
        {
          "output_type": "stream",
          "text": [
            "Epoch 1/15\n"
          ],
          "name": "stdout"
        },
        {
          "output_type": "stream",
          "text": [
            "WARNING: Logging before flag parsing goes to stderr.\n",
            "W0612 01:51:06.124577 140061615507328 deprecation.py:323] From /usr/local/lib/python3.6/dist-packages/tensorflow/python/ops/math_grad.py:1250: add_dispatch_support.<locals>.wrapper (from tensorflow.python.ops.array_ops) is deprecated and will be removed in a future version.\n",
            "Instructions for updating:\n",
            "Use tf.where in 2.0, which has the same broadcast rule as np.where\n"
          ],
          "name": "stderr"
        },
        {
          "output_type": "stream",
          "text": [
            "225/225 [==============================] - 184s 818ms/step - loss: 0.6933 - acc: 0.5717 - val_loss: 0.6214 - val_acc: 0.6488\n",
            "Epoch 2/15\n",
            "225/225 [==============================] - 170s 757ms/step - loss: 0.6131 - acc: 0.6613 - val_loss: 0.5837 - val_acc: 0.6832\n",
            "Epoch 3/15\n",
            "225/225 [==============================] - 171s 758ms/step - loss: 0.5777 - acc: 0.6932 - val_loss: 0.5457 - val_acc: 0.7232\n",
            "Epoch 4/15\n",
            "225/225 [==============================] - 172s 764ms/step - loss: 0.5469 - acc: 0.7211 - val_loss: 0.5218 - val_acc: 0.7388\n",
            "Epoch 5/15\n",
            "225/225 [==============================] - 171s 762ms/step - loss: 0.5199 - acc: 0.7414 - val_loss: 0.5163 - val_acc: 0.7440\n",
            "Epoch 6/15\n",
            "225/225 [==============================] - 170s 754ms/step - loss: 0.5091 - acc: 0.7474 - val_loss: 0.4946 - val_acc: 0.7612\n",
            "Epoch 7/15\n",
            "225/225 [==============================] - 171s 758ms/step - loss: 0.5004 - acc: 0.7536 - val_loss: 0.5047 - val_acc: 0.7536\n",
            "Epoch 8/15\n",
            "225/225 [==============================] - 169s 753ms/step - loss: 0.4721 - acc: 0.7742 - val_loss: 0.4587 - val_acc: 0.7896\n",
            "Epoch 9/15\n",
            "225/225 [==============================] - 170s 756ms/step - loss: 0.4598 - acc: 0.7779 - val_loss: 0.4544 - val_acc: 0.7852\n",
            "Epoch 10/15\n",
            "225/225 [==============================] - 169s 752ms/step - loss: 0.4504 - acc: 0.7877 - val_loss: 0.4560 - val_acc: 0.7804\n",
            "Epoch 11/15\n",
            "225/225 [==============================] - 170s 757ms/step - loss: 0.4302 - acc: 0.7999 - val_loss: 0.4460 - val_acc: 0.7904\n",
            "Epoch 12/15\n",
            "225/225 [==============================] - 171s 759ms/step - loss: 0.4221 - acc: 0.8047 - val_loss: 0.4034 - val_acc: 0.8172\n",
            "Epoch 13/15\n",
            "225/225 [==============================] - 172s 763ms/step - loss: 0.4033 - acc: 0.8179 - val_loss: 0.4035 - val_acc: 0.8152\n",
            "Epoch 14/15\n",
            "225/225 [==============================] - 171s 761ms/step - loss: 0.3931 - acc: 0.8233 - val_loss: 0.4149 - val_acc: 0.8120\n",
            "Epoch 15/15\n",
            "225/225 [==============================] - 169s 751ms/step - loss: 0.3868 - acc: 0.8263 - val_loss: 0.3964 - val_acc: 0.8248\n"
          ],
          "name": "stdout"
        }
      ]
    },
    {
      "cell_type": "markdown",
      "metadata": {
        "id": "_nc9N3VLms_w",
        "colab_type": "text"
      },
      "source": [
        "### Plotting the training and testing history"
      ]
    },
    {
      "cell_type": "code",
      "metadata": {
        "id": "BDlPKAopicVx",
        "colab_type": "code",
        "colab": {
          "base_uri": "https://localhost:8080/",
          "height": 562
        },
        "outputId": "5f20ff3c-5a10-41b2-8763-0fb75ec1ef2f"
      },
      "source": [
        "# PLOT LOSS AND ACCURACY\n",
        "%matplotlib inline\n",
        "\n",
        "import matplotlib.image  as mpimg\n",
        "import matplotlib.pyplot as plt\n",
        "\n",
        "#-----------------------------------------------------------\n",
        "# Retrieve a list of list results on training and test data\n",
        "# sets for each training epoch\n",
        "#-----------------------------------------------------------\n",
        "acc=history.history['acc']\n",
        "val_acc=history.history['val_acc']\n",
        "loss=history.history['loss']\n",
        "val_loss=history.history['val_loss']\n",
        "\n",
        "epochs=range(len(acc)) # Get number of epochs\n",
        "\n",
        "#------------------------------------------------\n",
        "# Plot training and validation accuracy per epoch\n",
        "#------------------------------------------------\n",
        "plt.plot(epochs, acc, 'r', label=\"Training Accuracy\")\n",
        "plt.plot(epochs, val_acc, 'b', label=\"Validation Accuracy\")\n",
        "plt.title('Training and validation accuracy')\n",
        "plt.legend()\n",
        "plt.figure()\n",
        "\n",
        "#------------------------------------------------\n",
        "# Plot training and validation loss per epoch\n",
        "#------------------------------------------------\n",
        "plt.plot(epochs, loss, 'r', label=\"Training Loss\")\n",
        "plt.plot(epochs, val_loss, 'b', label=\"Validation Loss\")\n",
        "plt.legend()\n",
        "plt.title('Training and validation loss')\n",
        "\n",
        "# Desired output. Charts with training and validation metrics. No crash :)"
      ],
      "execution_count": 18,
      "outputs": [
        {
          "output_type": "execute_result",
          "data": {
            "text/plain": [
              "Text(0.5, 1.0, 'Training and validation loss')"
            ]
          },
          "metadata": {
            "tags": []
          },
          "execution_count": 18
        },
        {
          "output_type": "display_data",
          "data": {
            "image/png": "[encoded data removed]",
            "text/plain": [
              "<Figure size 432x288 with 1 Axes>"
            ]
          },
          "metadata": {
            "tags": []
          }
        },
        {
          "output_type": "display_data",
          "data": {
            "image/png": "[encoded data removed]",
            "text/plain": [
              "<Figure size 432x288 with 1 Axes>"
            ]
          },
          "metadata": {
            "tags": []
          }
        }
      ]
    },
    {
      "cell_type": "markdown",
      "metadata": {
        "id": "XPpqudw7mzva",
        "colab_type": "text"
      },
      "source": [
        "As you can see the augmentation has a great effect on training of the model. The accuracies and losses in both training and validation are relativity close, unlike the previous version where the validation does worse than training. "
      ]
    },
    {
      "cell_type": "markdown",
      "metadata": {
        "id": "srluNcC9napO",
        "colab_type": "text"
      },
      "source": [
        "### Test your own image"
      ]
    },
    {
      "cell_type": "code",
      "metadata": {
        "id": "fc0eNsgGigAS",
        "colab_type": "code",
        "colab": {
          "resources": {
            "http://localhost:8080/nbextensions/google.colab/files.js": {
              "data": "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",
              "ok": true,
              "headers": [
                [
                  "content-type",
                  "application/javascript"
                ]
              ],
              "status": 200,
              "status_text": ""
            }
          },
          "base_uri": "https://localhost:8080/",
          "height": 125
        },
        "outputId": "36b509a9-6956-461d-80a9-b949934e1c10"
      },
      "source": [
        "# Here's a codeblock just for fun. You should be able to upload an image here \n",
        "# and have it classified without crashing\n",
        "\n",
        "import numpy as np\n",
        "from google.colab import files\n",
        "from keras.preprocessing import image\n",
        "\n",
        "uploaded = files.upload()\n",
        "\n",
        "for fn in uploaded.keys():\n",
        "  path = '/content/' + fn\n",
        "  img = image.load_img(path, target_size=(150, 150))\n",
        "  x = image.img_to_array(img)\n",
        "  x = np.expand_dims(x, axis=0)\n",
        "\n",
        "  images = np.vstack([x])\n",
        "  classes = model.predict(images, batch_size=10)\n",
        "  print(classes[0])\n",
        "  if classes[0]>0.5:\n",
        "    print(fn + \" is a dog\")\n",
        "  else:\n",
        "    print(fn + \" is a cat\")"
      ],
      "execution_count": 19,
      "outputs": [
        {
          "output_type": "stream",
          "text": [
            "Using TensorFlow backend.\n"
          ],
          "name": "stderr"
        },
        {
          "output_type": "display_data",
          "data": {
            "text/html": [
              "\n",
              "     <input type=\"file\" id=\"files-e27d95c6-afb8-4a24-942c-615c14416054\" name=\"files[]\" multiple disabled />\n",
              "     <output id=\"result-e27d95c6-afb8-4a24-942c-615c14416054\">\n",
              "      Upload widget is only available when the cell has been executed in the\n",
              "      current browser session. Please rerun this cell to enable.\n",
              "      </output>\n",
              "      <script src=\"/nbextensions/google.colab/files.js\"></script> "
            ],
            "text/plain": [
              "<IPython.core.display.HTML object>"
            ]
          },
          "metadata": {
            "tags": []
          }
        },
        {
          "output_type": "stream",
          "text": [
            "Saving cat-ear.png to cat-ear.png\n",
            "[0.]\n",
            "cat-ear.png is a cat\n"
          ],
          "name": "stdout"
        }
      ]
    },
    {
      "cell_type": "code",
      "metadata": {
        "id": "aLKD4oS_i61e",
        "colab_type": "code",
        "colab": {}
      },
      "source": [
        ""
      ],
      "execution_count": 0,
      "outputs": []
    }
  ]
}