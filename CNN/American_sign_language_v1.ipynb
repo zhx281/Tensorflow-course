{
  "nbformat": 4,
  "nbformat_minor": 0,
  "metadata": {
    "colab": {
      "name": "American_sign_language_v1.ipynb",
      "version": "0.3.2",
      "provenance": [],
      "collapsed_sections": []
    },
    "kernelspec": {
      "name": "python3",
      "display_name": "Python 3"
    },
    "accelerator": "GPU"
  },
  "cells": [
    {
      "cell_type": "markdown",
      "metadata": {
        "id": "lSS8REfwheqT",
        "colab_type": "text"
      },
      "source": [
        "# Install Kaggle API\n",
        "In this notebook we we be using the kaggle api to download the sign-language-mnist dataset we are going to be using in this notebook. \n",
        "\n",
        "In order to download the sign-language-mnist dataset from kaggle, you first have to sign-up with kaggel.com, then download the api key from your account and then upload it with the kaggle auth helper function.  \n",
        "\n",
        "For more information on have to create account or downloading the api key, please use search on goolge.\n",
        "\n",
        "Note: Please make sure to store you api keys in a safe place."
      ]
    },
    {
      "cell_type": "code",
      "metadata": {
        "id": "4QXI1c8_exBe",
        "colab_type": "code",
        "outputId": "fad2d05e-b3b0-465c-c01c-1a4b2c9db3d4",
        "colab": {
          "base_uri": "https://localhost:8080/",
          "height": 34
        }
      },
      "source": [
        "kag = !pip list | grep kaggle\n",
        "if len(kag) == 0:\n",
        "  ! pip install kaggle\n",
        "else:\n",
        "  print('Kaggle api already installed')"
      ],
      "execution_count": 1,
      "outputs": [
        {
          "output_type": "stream",
          "text": [
            "Kaggle api already installed\n"
          ],
          "name": "stdout"
        }
      ]
    },
    {
      "cell_type": "code",
      "metadata": {
        "id": "RoyQJUMRZONm",
        "colab_type": "code",
        "colab": {}
      },
      "source": [
        "# Helper function for uploading the kaggle auth key and moving it to the .kaggle\n",
        "# directory for using with the kaggle api\n",
        "def kaggle_auth():\n",
        "  import os\n",
        "  \n",
        "  if not os.path.exists('/root/.kaggle/'):\n",
        "    os.mkdir('/root/.kaggle')\n",
        "  os.chdir('/root/.kaggle/')\n",
        "  print(os.getcwd())\n",
        "\n",
        "  if os.path.exists('/root/.kaggle/kaggle.json'):\n",
        "    print('kaggle token exists')\n",
        "  else:\n",
        "    # upload the kaggle token to /content\n",
        "    from google.colab import files\n",
        "    print('Please upload your kaggle.json file')\n",
        "    file = files.upload()\n",
        "    token = list(file.keys())[0]\n",
        "    os.rename(os.getcwd()+'/'+token, '/root/.kaggle/kaggle.json')\n",
        "    os.chmod('/root/.kaggle/kaggle.json', 600)\n",
        "    print('Uploaded kaggle token')"
      ],
      "execution_count": 0,
      "outputs": []
    },
    {
      "cell_type": "code",
      "metadata": {
        "id": "1umN1umoe5R9",
        "colab_type": "code",
        "outputId": "15a4deeb-bca5-480f-de1b-4ce6cc41ccba",
        "colab": {
          "resources": {
            "http://localhost:8080/nbextensions/google.colab/files.js": {
              "data": "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",
              "ok": true,
              "headers": [
                [
                  "content-type",
                  "application/javascript"
                ]
              ],
              "status": 200,
              "status_text": ""
            }
          },
          "base_uri": "https://localhost:8080/",
          "height": 125
        }
      },
      "source": [
        "kaggle_auth()"
      ],
      "execution_count": 3,
      "outputs": [
        {
          "output_type": "stream",
          "text": [
            "/root/.kaggle\n",
            "Please upload your kaggle.json file\n"
          ],
          "name": "stdout"
        },
        {
          "output_type": "display_data",
          "data": {
            "text/html": [
              "\n",
              "     <input type=\"file\" id=\"files-0b7e8f24-2f83-4b4b-bdb6-6d37f88f33f5\" name=\"files[]\" multiple disabled />\n",
              "     <output id=\"result-0b7e8f24-2f83-4b4b-bdb6-6d37f88f33f5\">\n",
              "      Upload widget is only available when the cell has been executed in the\n",
              "      current browser session. Please rerun this cell to enable.\n",
              "      </output>\n",
              "      <script src=\"/nbextensions/google.colab/files.js\"></script> "
            ],
            "text/plain": [
              "<IPython.core.display.HTML object>"
            ]
          },
          "metadata": {
            "tags": []
          }
        },
        {
          "output_type": "stream",
          "text": [
            "Saving kaggle.json to kaggle.json\n",
            "Uploaded kaggle token\n"
          ],
          "name": "stdout"
        }
      ]
    },
    {
      "cell_type": "code",
      "metadata": {
        "id": "JdegNYpQg3tm",
        "colab_type": "code",
        "outputId": "5383559d-75f8-4511-cb7e-cc51a46257e0",
        "colab": {
          "base_uri": "https://localhost:8080/",
          "height": 170
        }
      },
      "source": [
        "# searchingthe kaggle datasets database\n",
        "! kaggle datasets list -s rock-paper"
      ],
      "execution_count": 4,
      "outputs": [
        {
          "output_type": "stream",
          "text": [
            "ref                                      title                                           size  lastUpdated          downloadCount  \n",
            "---------------------------------------  ---------------------------------------------  -----  -------------------  -------------  \n",
            "alishmanandhar/rock-scissor-paper        Rock Scissor Paper                             249MB  2018-09-11 09:32:56            209  \n",
            "drgfreeman/rockpaperscissors             Rock-Paper-Scissors Images                     153MB  2019-03-01 01:01:11            145  \n",
            "alishmanandhar/rock-scissor-paper-hands  Rock Scissor Paper Hands                       238MB  2018-09-16 13:30:57             20  \n",
            "geekkid/rock-paper-scissors-moves        rock paper scissors moves                        6KB  2019-02-17 13:56:21              0  \n",
            "sanikamal/rock-paper-scissors-dataset    Rock Paper Scissors Dataset                    226MB  2019-04-24 19:53:04             56  \n",
            "kyr7plus/emg-4                           Classify gestures by reading muscle activity.  803KB  2018-12-09 17:45:37            734  \n",
            "rtatman/deceptive-opinion-spam-corpus    Deceptive Opinion Spam Corpus                  475KB  2017-07-18 16:31:06           1740  \n"
          ],
          "name": "stdout"
        }
      ]
    },
    {
      "cell_type": "code",
      "metadata": {
        "id": "vsXZqJ9tjZ1b",
        "colab_type": "code",
        "outputId": "ec6849e5-bc53-434f-ef76-6269717588f7",
        "colab": {
          "base_uri": "https://localhost:8080/",
          "height": 68
        }
      },
      "source": [
        "# download the dataset from kagge\n",
        "# -p [path for the dataset to download to]\n",
        "# -d [name of dataset to be download]\n",
        "! kaggle datasets download -p /tmp -d datamunge/sign-language-mnist"
      ],
      "execution_count": 5,
      "outputs": [
        {
          "output_type": "stream",
          "text": [
            "Downloading sign-language-mnist.zip to /tmp\n",
            " 36% 11.0M/30.8M [00:00<00:00, 111MB/s]\n",
            "100% 30.8M/30.8M [00:00<00:00, 150MB/s]\n"
          ],
          "name": "stdout"
        }
      ]
    },
    {
      "cell_type": "markdown",
      "metadata": {
        "id": "SLlwicgzj7XP",
        "colab_type": "text"
      },
      "source": [
        "# Step - 1 : Loading the Data\n",
        "After download the dataset from kaggle, we can extract the zip file and then load the csv file into numpy arrays."
      ]
    },
    {
      "cell_type": "code",
      "metadata": {
        "id": "wYtuKeK0dImp",
        "colab_type": "code",
        "colab": {}
      },
      "source": [
        "import csv\n",
        "import numpy as np\n",
        "import zipfile\n",
        "import tensorflow as tf\n",
        "from tensorflow.keras.preprocessing.image import ImageDataGenerator"
      ],
      "execution_count": 0,
      "outputs": []
    },
    {
      "cell_type": "code",
      "metadata": {
        "id": "Wto__a_JkyrK",
        "colab_type": "code",
        "colab": {}
      },
      "source": [
        "# extracting the zip file \n",
        "ref_file = '/tmp/sign-language-mnist.zip'\n",
        "ref_zip = zipfile.ZipFile(ref_file, 'r')\n",
        "ref_zip.extractall('/tmp/sign-language-mnist')\n",
        "ref_zip.close()"
      ],
      "execution_count": 0,
      "outputs": []
    },
    {
      "cell_type": "code",
      "metadata": {
        "id": "4kxw-_rmcnVu",
        "colab_type": "code",
        "outputId": "f05ee137-4398-470d-daf6-873e60c7fd56",
        "colab": {
          "base_uri": "https://localhost:8080/",
          "height": 85
        }
      },
      "source": [
        "def get_data(filename):\n",
        "  # loading the csv with numpy loadtxt function\n",
        "  file = np.loadtxt(filename, skiprows=1, delimiter=',')\n",
        "  labels = file[::, 0]  # first value in each row is the class\n",
        "  # the rest if the image data and reshaping it into (28, 28)\n",
        "  images = file[::, 1:].reshape(-1, 28, 28)\n",
        "  return images, labels\n",
        "\n",
        "train_csv = '/tmp/sign-language-mnist/sign_mnist_train.csv'\n",
        "test_csv = '/tmp/sign-language-mnist/sign_mnist_test.csv'\n",
        "\n",
        "training_images, training_labels = get_data(train_csv)\n",
        "testing_images, testing_labels = get_data(test_csv)\n",
        "\n",
        "# Checking the shapes \n",
        "print(training_images.shape)\n",
        "print(training_labels.shape)\n",
        "print(testing_images.shape)\n",
        "print(testing_labels.shape)"
      ],
      "execution_count": 8,
      "outputs": [
        {
          "output_type": "stream",
          "text": [
            "(27455, 28, 28)\n",
            "(27455,)\n",
            "(7172, 28, 28)\n",
            "(7172,)\n"
          ],
          "name": "stdout"
        }
      ]
    },
    {
      "cell_type": "markdown",
      "metadata": {
        "id": "-N088P4qkNpv",
        "colab_type": "text"
      },
      "source": [
        "# Step - 2: Preprocessing the Data"
      ]
    },
    {
      "cell_type": "code",
      "metadata": {
        "id": "awoqRpyZdQkD",
        "colab_type": "code",
        "outputId": "e3376b96-c64a-40b4-a09c-8861c43cdd17",
        "colab": {
          "base_uri": "https://localhost:8080/",
          "height": 51
        }
      },
      "source": [
        "# In this section you will have to add another dimension to the data\n",
        "# So, for example, if your array is (10000, 28, 28)\n",
        "# You will need to make it (10000, 28, 28, 1)\n",
        "# Hint: np.expand_dims\n",
        "\n",
        "if len(training_images.shape) < 4:\n",
        "  training_images = np.expand_dims(training_images, axis=-1)\n",
        "  testing_images = np.expand_dims(testing_images, axis=-1)\n",
        "\n",
        "# Create an ImageDataGenerator and do Image Augmentation\n",
        "train_datagen = ImageDataGenerator(rescale=1./255.,\n",
        "                                   rotation_range=40,\n",
        "                                   width_shift_range=.2,\n",
        "                                   height_shift_range=.2,\n",
        "                                   zoom_range=.2,\n",
        "                                   shear_range=.2,\n",
        "                                   horizontal_flip=True,\n",
        "                                   vertical_flip=True,\n",
        "                                   fill_mode='nearest')\n",
        "\n",
        "validation_datagen = ImageDataGenerator(rescale=1./255.)\n",
        "    \n",
        "# checking the shapes \n",
        "print(training_images.shape)\n",
        "print(testing_images.shape)"
      ],
      "execution_count": 9,
      "outputs": [
        {
          "output_type": "stream",
          "text": [
            "(27455, 28, 28, 1)\n",
            "(7172, 28, 28, 1)\n"
          ],
          "name": "stdout"
        }
      ]
    },
    {
      "cell_type": "markdown",
      "metadata": {
        "id": "l7z_zupVkVBw",
        "colab_type": "text"
      },
      "source": [
        "# Step - 3: Create the Model"
      ]
    },
    {
      "cell_type": "code",
      "metadata": {
        "id": "Rmb7S32cgRqS",
        "colab_type": "code",
        "colab": {}
      },
      "source": [
        "# Define the model with 2 Conv2D and 2 MaxPooling2D\n",
        "# and a dropout layer\n",
        "model = tf.keras.models.Sequential([\n",
        "  tf.keras.layers.Conv2D(64, (3,3), activation='relu', input_shape=(28,28,1)),\n",
        "  tf.keras.layers.MaxPooling2D(2,2),\n",
        "  tf.keras.layers.Conv2D(128, (3,3), activation='relu'),\n",
        "  tf.keras.layers.MaxPooling2D(2,2),\n",
        "  tf.keras.layers.Flatten(),\n",
        "  tf.keras.layers.Dense(1024, activation='relu'),\n",
        "  tf.keras.layers.Dropout(.5),\n",
        "  tf.keras.layers.Dense(training_labels.max()+1, activation='softmax')\n",
        "  ])\n",
        "\n",
        "# Compile Model. \n",
        "model.compile(loss='sparse_categorical_crossentropy',\n",
        "              optimizer='adam',\n",
        "              metrics=['sparse_categorical_accuracy'])\n"
      ],
      "execution_count": 0,
      "outputs": []
    },
    {
      "cell_type": "code",
      "metadata": {
        "id": "y_hNjP_DyQeX",
        "colab_type": "code",
        "colab": {
          "base_uri": "https://localhost:8080/",
          "height": 547
        },
        "outputId": "af86e8c9-a10e-4ee6-952e-9841edbaa7c5"
      },
      "source": [
        "callbacks = myCallback()\n",
        "# Train the Model\n",
        "history = model.fit_generator(train_datagen.flow(training_images, training_labels, batch_size=32),\n",
        "                              steps_per_epoch=len(training_images)/32,\n",
        "                              epochs=15,\n",
        "                              validation_data=validation_datagen.flow(testing_images, testing_labels, batch_size=32),\n",
        "                              validation_steps=len(testing_images)/32)"
      ],
      "execution_count": 24,
      "outputs": [
        {
          "output_type": "stream",
          "text": [
            "Epoch 1/15\n",
            "858/857 [==============================] - 12s 14ms/step - loss: 2.8011 - sparse_categorical_accuracy: 0.1405 - val_loss: 2.1375 - val_sparse_categorical_accuracy: 0.3384\n",
            "Epoch 2/15\n",
            "858/857 [==============================] - 11s 13ms/step - loss: 2.2837 - sparse_categorical_accuracy: 0.2742 - val_loss: 1.5995 - val_sparse_categorical_accuracy: 0.4375\n",
            "Epoch 3/15\n",
            "858/857 [==============================] - 11s 13ms/step - loss: 1.9758 - sparse_categorical_accuracy: 0.3636 - val_loss: 1.2606 - val_sparse_categorical_accuracy: 0.5583\n",
            "Epoch 4/15\n",
            "858/857 [==============================] - 11s 13ms/step - loss: 1.7471 - sparse_categorical_accuracy: 0.4291 - val_loss: 1.1810 - val_sparse_categorical_accuracy: 0.6036\n",
            "Epoch 5/15\n",
            "858/857 [==============================] - 11s 13ms/step - loss: 1.5833 - sparse_categorical_accuracy: 0.4816 - val_loss: 1.1468 - val_sparse_categorical_accuracy: 0.5869\n",
            "Epoch 6/15\n",
            "858/857 [==============================] - 12s 14ms/step - loss: 1.4369 - sparse_categorical_accuracy: 0.5206 - val_loss: 0.8264 - val_sparse_categorical_accuracy: 0.7189\n",
            "Epoch 7/15\n",
            "858/857 [==============================] - 11s 13ms/step - loss: 1.3346 - sparse_categorical_accuracy: 0.5572 - val_loss: 0.7332 - val_sparse_categorical_accuracy: 0.7506\n",
            "Epoch 8/15\n",
            "858/857 [==============================] - 12s 14ms/step - loss: 1.2519 - sparse_categorical_accuracy: 0.5850 - val_loss: 0.6159 - val_sparse_categorical_accuracy: 0.8083\n",
            "Epoch 9/15\n",
            "858/857 [==============================] - 11s 13ms/step - loss: 1.1739 - sparse_categorical_accuracy: 0.6099 - val_loss: 0.6410 - val_sparse_categorical_accuracy: 0.7863\n",
            "Epoch 10/15\n",
            "858/857 [==============================] - 11s 12ms/step - loss: 1.1258 - sparse_categorical_accuracy: 0.6250 - val_loss: 0.5299 - val_sparse_categorical_accuracy: 0.8161\n",
            "Epoch 11/15\n",
            "858/857 [==============================] - 11s 12ms/step - loss: 1.0724 - sparse_categorical_accuracy: 0.6396 - val_loss: 0.5518 - val_sparse_categorical_accuracy: 0.8116\n",
            "Epoch 12/15\n",
            "858/857 [==============================] - 11s 12ms/step - loss: 1.0262 - sparse_categorical_accuracy: 0.6556 - val_loss: 0.4343 - val_sparse_categorical_accuracy: 0.8571\n",
            "Epoch 13/15\n",
            "858/857 [==============================] - 11s 12ms/step - loss: 0.9925 - sparse_categorical_accuracy: 0.6634 - val_loss: 0.3990 - val_sparse_categorical_accuracy: 0.8713\n",
            "Epoch 14/15\n",
            "858/857 [==============================] - 10s 12ms/step - loss: 0.9499 - sparse_categorical_accuracy: 0.6767 - val_loss: 0.3462 - val_sparse_categorical_accuracy: 0.8841\n",
            "Epoch 15/15\n",
            "858/857 [==============================] - 11s 12ms/step - loss: 0.9271 - sparse_categorical_accuracy: 0.6846 - val_loss: 0.4220 - val_sparse_categorical_accuracy: 0.8627\n"
          ],
          "name": "stdout"
        }
      ]
    },
    {
      "cell_type": "markdown",
      "metadata": {
        "id": "b6Kzgd2Aka7G",
        "colab_type": "text"
      },
      "source": [
        "### Plotting the history"
      ]
    },
    {
      "cell_type": "code",
      "metadata": {
        "id": "_Q3Zpr46dsij",
        "colab_type": "code",
        "outputId": "5b189504-af61-41ed-ec0e-b6a60a8a4245",
        "colab": {
          "base_uri": "https://localhost:8080/",
          "height": 562
        }
      },
      "source": [
        "# Plot the chart for accuracy and loss on both training and validation\n",
        "print(history)\n",
        "\n",
        "import matplotlib.pyplot as plt\n",
        "acc = history.history['sparse_categorical_accuracy']\n",
        "val_acc = history.history['val_sparse_categorical_accuracy']\n",
        "loss = history.history['loss']\n",
        "val_loss = history.history['val_loss']\n",
        "\n",
        "epochs = range(len(acc))\n",
        "\n",
        "plt.plot(epochs, acc, 'r', label='Training accuracy')\n",
        "plt.plot(epochs, val_acc, 'b', label='Validation accuracy')\n",
        "plt.title('Training and validation accuracy')\n",
        "plt.legend()\n",
        "plt.figure()\n",
        "\n",
        "plt.plot(epochs, loss, 'r', label='Training Loss')\n",
        "plt.plot(epochs, val_loss, 'b', label='Validation Loss')\n",
        "plt.title('Training and validation loss')\n",
        "plt.legend()\n",
        "\n",
        "plt.show()"
      ],
      "execution_count": 26,
      "outputs": [
        {
          "output_type": "stream",
          "text": [
            "<tensorflow.python.keras.callbacks.History object at 0x7fa086148320>\n"
          ],
          "name": "stdout"
        },
        {
          "output_type": "display_data",
          "data": {
            "image/png": "[encoded data removed]",
            "text/plain": [
              "<Figure size 432x288 with 1 Axes>"
            ]
          },
          "metadata": {
            "tags": []
          }
        },
        {
          "output_type": "display_data",
          "data": {
            "image/png": "[encoded data removed]",
            "text/plain": [
              "<Figure size 432x288 with 1 Axes>"
            ]
          },
          "metadata": {
            "tags": []
          }
        }
      ]
    },
    {
      "cell_type": "markdown",
      "metadata": {
        "id": "XI18LDxGlHgp",
        "colab_type": "text"
      },
      "source": [
        "# Step - 4: Testing the Model"
      ]
    },
    {
      "cell_type": "code",
      "metadata": {
        "id": "6ooLJ-Mo4VbQ",
        "colab_type": "code",
        "colab": {
          "base_uri": "https://localhost:8080/",
          "height": 54
        },
        "outputId": "e36ae92f-464b-4949-87ec-8174b69d823b"
      },
      "source": [
        "# create a python dictionary for the letters in the alphabet\n",
        "import string\n",
        "alphabet = string.ascii_uppercase\n",
        "al_key = {i:a for i, a in enumerate(alphabet)}\n",
        "print(al_key)"
      ],
      "execution_count": 27,
      "outputs": [
        {
          "output_type": "stream",
          "text": [
            "{0: 'A', 1: 'B', 2: 'C', 3: 'D', 4: 'E', 5: 'F', 6: 'G', 7: 'H', 8: 'I', 9: 'J', 10: 'K', 11: 'L', 12: 'M', 13: 'N', 14: 'O', 15: 'P', 16: 'Q', 17: 'R', 18: 'S', 19: 'T', 20: 'U', 21: 'V', 22: 'W', 23: 'X', 24: 'Y', 25: 'Z'}\n"
          ],
          "name": "stdout"
        }
      ]
    },
    {
      "cell_type": "code",
      "metadata": {
        "id": "0RIeTgA9lc-P",
        "colab_type": "code",
        "colab": {
          "base_uri": "https://localhost:8080/",
          "height": 51
        },
        "outputId": "004c65c2-6c0f-4f78-c21b-3fb1a52bb7fc"
      },
      "source": [
        "# selecting 10 random images from the validation set\n",
        "idx = np.random.choice(len(testing_labels), size=10, replace=False)\n",
        "test_images = testing_images[idx]\n",
        "test_labels = testing_labels[idx]\n",
        "\n",
        "print(test_images.shape)\n",
        "print(test_labels.shape)"
      ],
      "execution_count": 28,
      "outputs": [
        {
          "output_type": "stream",
          "text": [
            "(10, 28, 28, 1)\n",
            "(10,)\n"
          ],
          "name": "stdout"
        }
      ]
    },
    {
      "cell_type": "code",
      "metadata": {
        "id": "jeuh5yTErn9y",
        "colab_type": "code",
        "colab": {
          "base_uri": "https://localhost:8080/",
          "height": 2667
        },
        "outputId": "bcfb11be-2b7a-46ba-ee2a-4a27bca3b7af"
      },
      "source": [
        "%matplotlib inline\n",
        "import matplotlib.image as mpimg\n",
        "import matplotlib.pyplot as plt\n",
        "from PIL import Image\n",
        "\n",
        "for image, label in zip(test_images, test_labels):\n",
        "  img = image.reshape(28, 28)\n",
        "  plt.imshow(img, cmap='gray')\n",
        "  plt.axis('off')\n",
        "  plt.show()\n",
        "  \n",
        "  p = model.predict(np.expand_dims(image, axis=0))\n",
        "  predict = np.argmax(p)\n",
        "  is_correct = 'correct :)!' if predict==label else 'incorrect :(!'\n",
        "  \n",
        "  print('The model guess the above sign to be {}, and the sign is {}, '\n",
        "        \"therefore the model's is {}\".format(al_key[predict], \n",
        "                                             al_key[int(label)],\n",
        "                                             is_correct))"
      ],
      "execution_count": 29,
      "outputs": [
        {
          "output_type": "display_data",
          "data": {
            "image/png": "[encoded data removed]",
            "text/plain": [
              "<Figure size 432x288 with 1 Axes>"
            ]
          },
          "metadata": {
            "tags": []
          }
        },
        {
          "output_type": "stream",
          "text": [
            "The model guess the above sign to be S, and the sign is I, therefore the model's is incorrect :(!\n"
          ],
          "name": "stdout"
        },
        {
          "output_type": "display_data",
          "data": {
            "image/png": "[encoded data removed]",
            "text/plain": [
              "<Figure size 432x288 with 1 Axes>"
            ]
          },
          "metadata": {
            "tags": []
          }
        },
        {
          "output_type": "stream",
          "text": [
            "The model guess the above sign to be X, and the sign is G, therefore the model's is incorrect :(!\n"
          ],
          "name": "stdout"
        },
        {
          "output_type": "display_data",
          "data": {
            "image/png": "[encoded data removed]",
            "text/plain": [
              "<Figure size 432x288 with 1 Axes>"
            ]
          },
          "metadata": {
            "tags": []
          }
        },
        {
          "output_type": "stream",
          "text": [
            "The model guess the above sign to be M, and the sign is P, therefore the model's is incorrect :(!\n"
          ],
          "name": "stdout"
        },
        {
          "output_type": "display_data",
          "data": {
            "image/png": "[encoded data removed]",
            "text/plain": [
              "<Figure size 432x288 with 1 Axes>"
            ]
          },
          "metadata": {
            "tags": []
          }
        },
        {
          "output_type": "stream",
          "text": [
            "The model guess the above sign to be S, and the sign is P, therefore the model's is incorrect :(!\n"
          ],
          "name": "stdout"
        },
        {
          "output_type": "display_data",
          "data": {
            "image/png": "[encoded data removed]",
            "text/plain": [
              "<Figure size 432x288 with 1 Axes>"
            ]
          },
          "metadata": {
            "tags": []
          }
        },
        {
          "output_type": "stream",
          "text": [
            "The model guess the above sign to be N, and the sign is N, therefore the model's is correct :)!\n"
          ],
          "name": "stdout"
        },
        {
          "output_type": "display_data",
          "data": {
            "image/png": "[encoded data removed]",
            "text/plain": [
              "<Figure size 432x288 with 1 Axes>"
            ]
          },
          "metadata": {
            "tags": []
          }
        },
        {
          "output_type": "stream",
          "text": [
            "The model guess the above sign to be Q, and the sign is K, therefore the model's is incorrect :(!\n"
          ],
          "name": "stdout"
        },
        {
          "output_type": "display_data",
          "data": {
            "image/png": "[encoded data removed]",
            "text/plain": [
              "<Figure size 432x288 with 1 Axes>"
            ]
          },
          "metadata": {
            "tags": []
          }
        },
        {
          "output_type": "stream",
          "text": [
            "The model guess the above sign to be S, and the sign is V, therefore the model's is incorrect :(!\n"
          ],
          "name": "stdout"
        },
        {
          "output_type": "display_data",
          "data": {
            "image/png": "[encoded data removed]",
            "text/plain": [
              "<Figure size 432x288 with 1 Axes>"
            ]
          },
          "metadata": {
            "tags": []
          }
        },
        {
          "output_type": "stream",
          "text": [
            "The model guess the above sign to be M, and the sign is W, therefore the model's is incorrect :(!\n"
          ],
          "name": "stdout"
        },
        {
          "output_type": "display_data",
          "data": {
            "image/png": "[encoded data removed]",
            "text/plain": [
              "<Figure size 432x288 with 1 Axes>"
            ]
          },
          "metadata": {
            "tags": []
          }
        },
        {
          "output_type": "stream",
          "text": [
            "The model guess the above sign to be X, and the sign is T, therefore the model's is incorrect :(!\n"
          ],
          "name": "stdout"
        },
        {
          "output_type": "display_data",
          "data": {
            "image/png": "[encoded data removed]",
            "text/plain": [
              "<Figure size 432x288 with 1 Axes>"
            ]
          },
          "metadata": {
            "tags": []
          }
        },
        {
          "output_type": "stream",
          "text": [
            "The model guess the above sign to be Q, and the sign is Q, therefore the model's is correct :)!\n"
          ],
          "name": "stdout"
        }
      ]
    },
    {
      "cell_type": "code",
      "metadata": {
        "id": "Bw4wJYdmsN7N",
        "colab_type": "code",
        "colab": {}
      },
      "source": [
        ""
      ],
      "execution_count": 0,
      "outputs": []
    }
  ]
}