{
  "nbformat": 4,
  "nbformat_minor": 0,
  "metadata": {
    "colab": {
      "name": "American_sign_language_v1.ipynb",
      "version": "0.3.2",
      "provenance": [],
      "collapsed_sections": []
    },
    "kernelspec": {
      "name": "python3",
      "display_name": "Python 3"
    },
    "accelerator": "GPU"
  },
  "cells": [
    {
      "cell_type": "markdown",
      "metadata": {
        "id": "lSS8REfwheqT",
        "colab_type": "text"
      },
      "source": [
        "# Install Kaggle API\n",
        "In this notebook we we be using the kaggle api to download the sign-language-mnist dataset we are going to be using in this notebook. \n",
        "\n",
        "In order to download the sign-language-mnist dataset from kaggle, you first have to sign-up with kaggel.com, then download the api key from your account and then upload it with the kaggle auth helper function.  \n",
        "\n",
        "For more information on have to create account or downloading the api key, please use search on goolge.\n",
        "\n",
        "Note: Please make sure to store you api keys in a safe place."
      ]
    },
    {
      "cell_type": "code",
      "metadata": {
        "id": "4QXI1c8_exBe",
        "colab_type": "code",
        "outputId": "dce68599-af09-489e-ba66-108a9bebaeac",
        "colab": {
          "base_uri": "https://localhost:8080/",
          "height": 34
        }
      },
      "source": [
        "kag = !pip list | grep kaggle\n",
        "if len(kag) == 0:\n",
        "  ! pip install kaggle\n",
        "else:\n",
        "  print('Kaggle api already installed')"
      ],
      "execution_count": 1,
      "outputs": [
        {
          "output_type": "stream",
          "text": [
            "Kaggle api already installed\n"
          ],
          "name": "stdout"
        }
      ]
    },
    {
      "cell_type": "code",
      "metadata": {
        "id": "RoyQJUMRZONm",
        "colab_type": "code",
        "colab": {}
      },
      "source": [
        "# Helper function for uploading the kaggle auth key and moving it to the .kaggle\n",
        "# directory for using with the kaggle api\n",
        "def kaggle_auth():\n",
        "  import os\n",
        "  \n",
        "  if not os.path.exists('/root/.kaggle/'):\n",
        "    os.mkdir('/root/.kaggle')\n",
        "  os.chdir('/root/.kaggle/')\n",
        "  print(os.getcwd())\n",
        "\n",
        "  if os.path.exists('/root/.kaggle/kaggle.json'):\n",
        "    print('kaggle token exists')\n",
        "  else:\n",
        "    # upload the kaggle token to /content\n",
        "    from google.colab import files\n",
        "    print('Please upload your kaggle.json file')\n",
        "    file = files.upload()\n",
        "    token = list(file.keys())[0]\n",
        "    os.rename(os.getcwd()+'/'+token, '/root/.kaggle/kaggle.json')\n",
        "    os.chmod('/root/.kaggle/kaggle.json', 600)\n",
        "    print('Uploaded kaggle token')"
      ],
      "execution_count": 0,
      "outputs": []
    },
    {
      "cell_type": "code",
      "metadata": {
        "id": "1umN1umoe5R9",
        "colab_type": "code",
        "outputId": "c3e5a374-15e8-4504-9d20-0740286d54a1",
        "colab": {
          "base_uri": "https://localhost:8080/",
          "height": 51
        }
      },
      "source": [
        "kaggle_auth()"
      ],
      "execution_count": 4,
      "outputs": [
        {
          "output_type": "stream",
          "text": [
            "/root/.kaggle\n",
            "kaggle token exists\n"
          ],
          "name": "stdout"
        }
      ]
    },
    {
      "cell_type": "code",
      "metadata": {
        "id": "JdegNYpQg3tm",
        "colab_type": "code",
        "outputId": "4a66f87f-bc14-4efa-a919-82e8970c8472",
        "colab": {
          "base_uri": "https://localhost:8080/",
          "height": 68
        }
      },
      "source": [
        "# searches the kaggle datasets database\n",
        "! kaggle datasets list -s sign-language-mnist"
      ],
      "execution_count": 7,
      "outputs": [
        {
          "output_type": "stream",
          "text": [
            "ref                            title                size  lastUpdated          downloadCount  \n",
            "-----------------------------  -------------------  ----  -------------------  -------------  \n",
            "datamunge/sign-language-mnist  Sign Language MNIST  31MB  2017-10-20 15:09:18           7894  \n"
          ],
          "name": "stdout"
        }
      ]
    },
    {
      "cell_type": "code",
      "metadata": {
        "id": "vsXZqJ9tjZ1b",
        "colab_type": "code",
        "outputId": "6982c467-157a-45f5-f8d0-2e86d83fbf6f",
        "colab": {
          "base_uri": "https://localhost:8080/",
          "height": 34
        }
      },
      "source": [
        "import os\n",
        "if not os.path.exists('/tmp/sign-language-mnist.zip'):\n",
        "  # download the dataset from kagge\n",
        "  # -p [path for the dataset to download to]\n",
        "  # -d [name of dataset to be download]\n",
        "  ! kaggle datasets download -p /tmp -d datamunge/sign-language-mnist\n",
        "\n",
        "print('Zip downloaded')"
      ],
      "execution_count": 51,
      "outputs": [
        {
          "output_type": "stream",
          "text": [
            "Zip downloaded\n"
          ],
          "name": "stdout"
        }
      ]
    },
    {
      "cell_type": "markdown",
      "metadata": {
        "id": "SLlwicgzj7XP",
        "colab_type": "text"
      },
      "source": [
        "# Step - 1 : Loading the Data\n",
        "After download the dataset from kaggle, we can extract the zip file and then load the csv file into numpy arrays."
      ]
    },
    {
      "cell_type": "code",
      "metadata": {
        "id": "wYtuKeK0dImp",
        "colab_type": "code",
        "colab": {}
      },
      "source": [
        "import csv\n",
        "import numpy as np\n",
        "import os, zipfile\n",
        "import tensorflow as tf\n",
        "from tensorflow.keras.preprocessing.image import ImageDataGenerator"
      ],
      "execution_count": 0,
      "outputs": []
    },
    {
      "cell_type": "code",
      "metadata": {
        "id": "Wto__a_JkyrK",
        "colab_type": "code",
        "colab": {
          "base_uri": "https://localhost:8080/",
          "height": 34
        },
        "outputId": "3825f276-59a4-4f76-df94-d81f96389246"
      },
      "source": [
        "# extracting the zip file \n",
        "if not os.path.exists('/tmp/sign-language-mnist'):\n",
        "  ref_file = '/tmp/sign-language-mnist.zip'\n",
        "  ref_zip = zipfile.ZipFile(ref_file, 'r')\n",
        "  ref_zip.extractall('/tmp/sign-language-mnist')\n",
        "  ref_zip.close()\n",
        "  \n",
        "print('dataset extracted')"
      ],
      "execution_count": 35,
      "outputs": [
        {
          "output_type": "stream",
          "text": [
            "dataset extracted\n"
          ],
          "name": "stdout"
        }
      ]
    },
    {
      "cell_type": "code",
      "metadata": {
        "id": "4kxw-_rmcnVu",
        "colab_type": "code",
        "outputId": "fab18a90-48d3-4fea-bd8b-85a4b15ea472",
        "colab": {
          "base_uri": "https://localhost:8080/",
          "height": 85
        }
      },
      "source": [
        "def get_data(filename):\n",
        "  # loading the csv with numpy loadtxt function\n",
        "  file = np.loadtxt(filename, skiprows=1, delimiter=',')\n",
        "  labels = file[::, 0]  # first value in each row is the class\n",
        "  # the rest if the image data and reshaping it into (28, 28)\n",
        "  images = file[::, 1:].reshape(-1, 28, 28)\n",
        "  return images, labels\n",
        "\n",
        "train_csv = '/tmp/sign-language-mnist/sign_mnist_train.csv'\n",
        "test_csv = '/tmp/sign-language-mnist/sign_mnist_test.csv'\n",
        "\n",
        "training_images, training_labels = get_data(train_csv)\n",
        "raw_testing_images, raw_testing_labels = get_data(test_csv)\n",
        "\n",
        "# Checking the shapes \n",
        "print(training_images.shape)\n",
        "print(training_labels.shape)\n",
        "print(raw_testing_images.shape)\n",
        "print(raw_testing_labels.shape)"
      ],
      "execution_count": 42,
      "outputs": [
        {
          "output_type": "stream",
          "text": [
            "(27455, 28, 28)\n",
            "(27455,)\n",
            "(7172, 28, 28)\n",
            "(7172,)\n"
          ],
          "name": "stdout"
        }
      ]
    },
    {
      "cell_type": "code",
      "metadata": {
        "id": "pGxfBonYulC9",
        "colab_type": "code",
        "colab": {
          "base_uri": "https://localhost:8080/",
          "height": 85
        },
        "outputId": "8d9a57f2-7e64-4fd7-8b5a-9475fd60287a"
      },
      "source": [
        "# Creating hidden dataset for testing after training\n",
        "n_hidden = np.random.randint(20, 40)  # pick random integer inbetween 80 to 100\n",
        "# Pick random indices from testing data set\n",
        "hidden_idx = np.random.choice(len(raw_testing_images), size=n_hidden, replace=False)\n",
        "arange = np.arange(len(raw_testing_images))\n",
        "test_idx = np.isin(arange, hidden_idx) == False\n",
        "\n",
        "hidden_images = raw_testing_images[hidden_idx]\n",
        "hidden_labels = raw_testing_labels[hidden_idx]\n",
        "\n",
        "testing_images = raw_testing_images[test_idx]\n",
        "testing_labels = raw_testing_labels[test_idx]\n",
        "\n",
        "# Checking the shapes\n",
        "print(testing_images.shape)\n",
        "print(testing_labels.shape)\n",
        "print(hidden_images.shape)\n",
        "print(hidden_labels.shape)"
      ],
      "execution_count": 57,
      "outputs": [
        {
          "output_type": "stream",
          "text": [
            "(7142, 28, 28)\n",
            "(7142,)\n",
            "(30, 28, 28)\n",
            "(30,)\n"
          ],
          "name": "stdout"
        }
      ]
    },
    {
      "cell_type": "markdown",
      "metadata": {
        "id": "-N088P4qkNpv",
        "colab_type": "text"
      },
      "source": [
        "# Step - 2: Preprocessing the Data"
      ]
    },
    {
      "cell_type": "code",
      "metadata": {
        "id": "awoqRpyZdQkD",
        "colab_type": "code",
        "outputId": "43d0bdb0-27ec-4624-8e12-acd47159516f",
        "colab": {
          "base_uri": "https://localhost:8080/",
          "height": 51
        }
      },
      "source": [
        "# In this section you will have to add another dimension to the data\n",
        "# So, for example, if your array is (10000, 28, 28)\n",
        "# You will need to make it (10000, 28, 28, 1)\n",
        "# Hint: np.expand_dims\n",
        "\n",
        "if len(training_images.shape) < 4:\n",
        "  training_images = np.expand_dims(training_images, axis=-1)\n",
        "if len(testing_images.shape) < 4:\n",
        "  testing_images = np.expand_dims(testing_images, axis=-1)\n",
        "\n",
        "# Create an ImageDataGenerator and do Image Augmentation\n",
        "train_datagen = ImageDataGenerator(rescale=1./255.,\n",
        "                                   rotation_range=40,\n",
        "                                   width_shift_range=.2,\n",
        "                                   height_shift_range=.2,\n",
        "                                   zoom_range=.2,\n",
        "                                   shear_range=.2,\n",
        "                                   horizontal_flip=True,\n",
        "                                   vertical_flip=True,\n",
        "                                   fill_mode='nearest')\n",
        "\n",
        "validation_datagen = ImageDataGenerator(rescale=1./255.)\n",
        "    \n",
        "# checking the shapes \n",
        "print(training_images.shape)\n",
        "print(testing_images.shape)"
      ],
      "execution_count": 62,
      "outputs": [
        {
          "output_type": "stream",
          "text": [
            "(27455, 28, 28, 1)\n",
            "(7142, 28, 28, 1)\n"
          ],
          "name": "stdout"
        }
      ]
    },
    {
      "cell_type": "markdown",
      "metadata": {
        "id": "l7z_zupVkVBw",
        "colab_type": "text"
      },
      "source": [
        "# Step - 3: Create the Model"
      ]
    },
    {
      "cell_type": "code",
      "metadata": {
        "id": "OYNqY7SCo4S1",
        "colab_type": "code",
        "colab": {}
      },
      "source": [
        "class myCallback(tf.keras.callbacks.Callback):\n",
        "  def __init__(self, p=0.9):\n",
        "    self.p = p\n",
        "  def on_epoch_end(self, epoch, logs={}):\n",
        "    if (logs.get('acc')>self.p):\n",
        "      print(\"\\nReached {:.2f}% training accuracy, training STOP!\".format(self.p*100))\n",
        "      self.model.stop_training = True"
      ],
      "execution_count": 0,
      "outputs": []
    },
    {
      "cell_type": "code",
      "metadata": {
        "id": "Rmb7S32cgRqS",
        "colab_type": "code",
        "colab": {}
      },
      "source": [
        "# Define the model with 2 Conv2D and 2 MaxPooling2D\n",
        "# and a dropout layer\n",
        "model = tf.keras.models.Sequential([\n",
        "  tf.keras.layers.Conv2D(64, (3,3), activation='relu', input_shape=(28,28,1)),\n",
        "  tf.keras.layers.MaxPooling2D(2,2),\n",
        "  tf.keras.layers.Conv2D(128, (3,3), activation='relu'),\n",
        "  tf.keras.layers.MaxPooling2D(2,2),\n",
        "  tf.keras.layers.Flatten(),\n",
        "  tf.keras.layers.Dense(1024, activation='relu'),\n",
        "  tf.keras.layers.Dropout(.2),\n",
        "  tf.keras.layers.Dense(training_labels.max()+1, activation='softmax')\n",
        "  ])\n",
        "\n",
        "# Compile Model. \n",
        "model.compile(loss='sparse_categorical_crossentropy',\n",
        "              optimizer='adam',\n",
        "              metrics=['acc'])\n"
      ],
      "execution_count": 0,
      "outputs": []
    },
    {
      "cell_type": "code",
      "metadata": {
        "id": "y_hNjP_DyQeX",
        "colab_type": "code",
        "outputId": "1b864600-0d01-4323-ab28-95d8e0c2c31f",
        "colab": {
          "base_uri": "https://localhost:8080/",
          "height": 377
        }
      },
      "source": [
        "callbacks = myCallback(p=.8)\n",
        "# Train the Model\n",
        "history = model.fit_generator(train_datagen.flow(training_images, \n",
        "                                                 training_labels, \n",
        "                                                 batch_size=32),\n",
        "                              steps_per_epoch=len(training_images)/32,\n",
        "                              epochs=100,\n",
        "                              validation_data=validation_datagen.flow(testing_images, \n",
        "                                                                      testing_labels, \n",
        "                                                                      batch_size=32),\n",
        "                              validation_steps=len(testing_images)/32,\n",
        "                              callbacks=[callbacks])"
      ],
      "execution_count": 66,
      "outputs": [
        {
          "output_type": "stream",
          "text": [
            "Epoch 1/100\n",
            "858/857 [==============================] - 12s 14ms/step - loss: 0.7986 - acc: 0.7287 - val_loss: 0.4142 - val_acc: 0.8472\n",
            "Epoch 2/100\n",
            "858/857 [==============================] - 12s 14ms/step - loss: 0.7529 - acc: 0.7435 - val_loss: 0.4089 - val_acc: 0.8516\n",
            "Epoch 3/100\n",
            "858/857 [==============================] - 12s 14ms/step - loss: 0.7182 - acc: 0.7555 - val_loss: 0.3631 - val_acc: 0.8701\n",
            "Epoch 4/100\n",
            "858/857 [==============================] - 12s 14ms/step - loss: 0.6957 - acc: 0.7638 - val_loss: 0.3135 - val_acc: 0.9079\n",
            "Epoch 5/100\n",
            "858/857 [==============================] - 12s 14ms/step - loss: 0.6639 - acc: 0.7763 - val_loss: 0.2729 - val_acc: 0.9087\n",
            "Epoch 6/100\n",
            "858/857 [==============================] - 12s 14ms/step - loss: 0.6445 - acc: 0.7827 - val_loss: 0.2282 - val_acc: 0.9278\n",
            "Epoch 7/100\n",
            "858/857 [==============================] - 12s 14ms/step - loss: 0.6179 - acc: 0.7908 - val_loss: 0.3104 - val_acc: 0.8869\n",
            "Epoch 8/100\n",
            "858/857 [==============================] - 12s 14ms/step - loss: 0.5958 - acc: 0.7972 - val_loss: 0.2040 - val_acc: 0.9359\n",
            "Epoch 9/100\n",
            "854/857 [============================>.] - ETA: 0s - loss: 0.5843 - acc: 0.8019\n",
            "Reached 80.00% training accuracy, training STOP!\n",
            "858/857 [==============================] - 12s 14ms/step - loss: 0.5834 - acc: 0.8020 - val_loss: 0.2568 - val_acc: 0.9187\n"
          ],
          "name": "stdout"
        }
      ]
    },
    {
      "cell_type": "markdown",
      "metadata": {
        "id": "b6Kzgd2Aka7G",
        "colab_type": "text"
      },
      "source": [
        "### Plotting the history"
      ]
    },
    {
      "cell_type": "code",
      "metadata": {
        "id": "_Q3Zpr46dsij",
        "colab_type": "code",
        "outputId": "eeb1c1a4-597c-4c2a-cb74-519e7103c14d",
        "colab": {
          "base_uri": "https://localhost:8080/",
          "height": 562
        }
      },
      "source": [
        "# Plot the chart for accuracy and loss on both training and validation\n",
        "print(history)\n",
        "\n",
        "import matplotlib.pyplot as plt\n",
        "acc = history.history['acc']\n",
        "val_acc = history.history['val_acc']\n",
        "loss = history.history['loss']\n",
        "val_loss = history.history['val_loss']\n",
        "\n",
        "epochs = range(len(acc))\n",
        "\n",
        "plt.plot(epochs, acc, 'r', label='Training accuracy')\n",
        "plt.plot(epochs, val_acc, 'b', label='Validation accuracy')\n",
        "plt.title('Training and validation accuracy')\n",
        "plt.legend()\n",
        "plt.figure()\n",
        "\n",
        "plt.plot(epochs, loss, 'r', label='Training Loss')\n",
        "plt.plot(epochs, val_loss, 'b', label='Validation Loss')\n",
        "plt.title('Training and validation loss')\n",
        "plt.legend()\n",
        "\n",
        "plt.show()"
      ],
      "execution_count": 68,
      "outputs": [
        {
          "output_type": "stream",
          "text": [
            "<tensorflow.python.keras.callbacks.History object at 0x7fdb3ab5f0b8>\n"
          ],
          "name": "stdout"
        },
        {
          "output_type": "display_data",
          "data": {
            "image/png": "[encoded data removed]",
            "text/plain": [
              "<Figure size 432x288 with 1 Axes>"
            ]
          },
          "metadata": {
            "tags": []
          }
        },
        {
          "output_type": "display_data",
          "data": {
            "image/png": "[encoded data removed]",
            "text/plain": [
              "<Figure size 432x288 with 1 Axes>"
            ]
          },
          "metadata": {
            "tags": []
          }
        }
      ]
    },
    {
      "cell_type": "markdown",
      "metadata": {
        "id": "XI18LDxGlHgp",
        "colab_type": "text"
      },
      "source": [
        "# Step - 4: Testing the Model"
      ]
    },
    {
      "cell_type": "code",
      "metadata": {
        "id": "6ooLJ-Mo4VbQ",
        "colab_type": "code",
        "outputId": "df8c0416-f5ba-4fd1-d390-d5f6eae73e4a",
        "colab": {
          "base_uri": "https://localhost:8080/",
          "height": 54
        }
      },
      "source": [
        "# create a python dictionary for the letters in the alphabet\n",
        "import string\n",
        "alphabet = string.ascii_uppercase\n",
        "al_key = {i:a for i, a in enumerate(alphabet)}\n",
        "print(al_key)"
      ],
      "execution_count": 69,
      "outputs": [
        {
          "output_type": "stream",
          "text": [
            "{0: 'A', 1: 'B', 2: 'C', 3: 'D', 4: 'E', 5: 'F', 6: 'G', 7: 'H', 8: 'I', 9: 'J', 10: 'K', 11: 'L', 12: 'M', 13: 'N', 14: 'O', 15: 'P', 16: 'Q', 17: 'R', 18: 'S', 19: 'T', 20: 'U', 21: 'V', 22: 'W', 23: 'X', 24: 'Y', 25: 'Z'}\n"
          ],
          "name": "stdout"
        }
      ]
    },
    {
      "cell_type": "code",
      "metadata": {
        "id": "jeuh5yTErn9y",
        "colab_type": "code",
        "outputId": "d2772613-b5dd-4cae-9886-1376e3d5acba",
        "colab": {
          "base_uri": "https://localhost:8080/",
          "height": 7984
        }
      },
      "source": [
        "%matplotlib inline\n",
        "import matplotlib.image as mpimg\n",
        "import matplotlib.pyplot as plt\n",
        "from PIL import Image\n",
        "\n",
        "score = 0\n",
        "for image, label in zip(hidden_images, hidden_labels):\n",
        "  plt.imshow(image, cmap='gray')\n",
        "  plt.axis('off')\n",
        "  plt.show()\n",
        "  \n",
        "  img = np.expand_dims(image, axis=-1)/255.\n",
        "  p = model.predict(np.expand_dims(img, axis=0))\n",
        "  predict = np.argmax(p)\n",
        "  is_correct = 'correct :)!' if predict==label else 'incorrect :(!'\n",
        "  if is_correct == 'correct :)!':\n",
        "    score += 1\n",
        "  print('The model guess the above sign to be {}, and the sign is {}, '\n",
        "        \"therefore the model's is {}\".format(al_key[predict], \n",
        "                                             al_key[int(label)],\n",
        "                                             is_correct))\n",
        "\n",
        "print(\"The model's test accuracy is {:.2f}%\".format(score/len(hidden_labels)*100))"
      ],
      "execution_count": 70,
      "outputs": [
        {
          "output_type": "display_data",
          "data": {
            "image/png": "[encoded data removed]",
            "text/plain": [
              "<Figure size 432x288 with 1 Axes>"
            ]
          },
          "metadata": {
            "tags": []
          }
        },
        {
          "output_type": "stream",
          "text": [
            "The model guess the above sign to be I, and the sign is I, therefore the model's is correct :)!\n"
          ],
          "name": "stdout"
        },
        {
          "output_type": "display_data",
          "data": {
            "image/png": "[encoded data removed]",
            "text/plain": [
              "<Figure size 432x288 with 1 Axes>"
            ]
          },
          "metadata": {
            "tags": []
          }
        },
        {
          "output_type": "stream",
          "text": [
            "The model guess the above sign to be D, and the sign is D, therefore the model's is correct :)!\n"
          ],
          "name": "stdout"
        },
        {
          "output_type": "display_data",
          "data": {
            "image/png": "[encoded data removed]",
            "text/plain": [
              "<Figure size 432x288 with 1 Axes>"
            ]
          },
          "metadata": {
            "tags": []
          }
        },
        {
          "output_type": "stream",
          "text": [
            "The model guess the above sign to be G, and the sign is G, therefore the model's is correct :)!\n"
          ],
          "name": "stdout"
        },
        {
          "output_type": "display_data",
          "data": {
            "image/png": "[encoded data removed]",
            "text/plain": [
              "<Figure size 432x288 with 1 Axes>"
            ]
          },
          "metadata": {
            "tags": []
          }
        },
        {
          "output_type": "stream",
          "text": [
            "The model guess the above sign to be O, and the sign is O, therefore the model's is correct :)!\n"
          ],
          "name": "stdout"
        },
        {
          "output_type": "display_data",
          "data": {
            "image/png": "[encoded data removed]",
            "text/plain": [
              "<Figure size 432x288 with 1 Axes>"
            ]
          },
          "metadata": {
            "tags": []
          }
        },
        {
          "output_type": "stream",
          "text": [
            "The model guess the above sign to be X, and the sign is X, therefore the model's is correct :)!\n"
          ],
          "name": "stdout"
        },
        {
          "output_type": "display_data",
          "data": {
            "image/png": "[encoded data removed]",
            "text/plain": [
              "<Figure size 432x288 with 1 Axes>"
            ]
          },
          "metadata": {
            "tags": []
          }
        },
        {
          "output_type": "stream",
          "text": [
            "The model guess the above sign to be B, and the sign is B, therefore the model's is correct :)!\n"
          ],
          "name": "stdout"
        },
        {
          "output_type": "display_data",
          "data": {
            "image/png": "[encoded data removed]",
            "text/plain": [
              "<Figure size 432x288 with 1 Axes>"
            ]
          },
          "metadata": {
            "tags": []
          }
        },
        {
          "output_type": "stream",
          "text": [
            "The model guess the above sign to be A, and the sign is A, therefore the model's is correct :)!\n"
          ],
          "name": "stdout"
        },
        {
          "output_type": "display_data",
          "data": {
            "image/png": "[encoded data removed]",
            "text/plain": [
              "<Figure size 432x288 with 1 Axes>"
            ]
          },
          "metadata": {
            "tags": []
          }
        },
        {
          "output_type": "stream",
          "text": [
            "The model guess the above sign to be Y, and the sign is Y, therefore the model's is correct :)!\n"
          ],
          "name": "stdout"
        },
        {
          "output_type": "display_data",
          "data": {
            "image/png": "[encoded data removed]",
            "text/plain": [
              "<Figure size 432x288 with 1 Axes>"
            ]
          },
          "metadata": {
            "tags": []
          }
        },
        {
          "output_type": "stream",
          "text": [
            "The model guess the above sign to be S, and the sign is S, therefore the model's is correct :)!\n"
          ],
          "name": "stdout"
        },
        {
          "output_type": "display_data",
          "data": {
            "image/png": "[encoded data removed]",
            "text/plain": [
              "<Figure size 432x288 with 1 Axes>"
            ]
          },
          "metadata": {
            "tags": []
          }
        },
        {
          "output_type": "stream",
          "text": [
            "The model guess the above sign to be F, and the sign is F, therefore the model's is correct :)!\n"
          ],
          "name": "stdout"
        },
        {
          "output_type": "display_data",
          "data": {
            "image/png": "[encoded data removed]",
            "text/plain": [
              "<Figure size 432x288 with 1 Axes>"
            ]
          },
          "metadata": {
            "tags": []
          }
        },
        {
          "output_type": "stream",
          "text": [
            "The model guess the above sign to be F, and the sign is F, therefore the model's is correct :)!\n"
          ],
          "name": "stdout"
        },
        {
          "output_type": "display_data",
          "data": {
            "image/png": "[encoded data removed]",
            "text/plain": [
              "<Figure size 432x288 with 1 Axes>"
            ]
          },
          "metadata": {
            "tags": []
          }
        },
        {
          "output_type": "stream",
          "text": [
            "The model guess the above sign to be N, and the sign is N, therefore the model's is correct :)!\n"
          ],
          "name": "stdout"
        },
        {
          "output_type": "display_data",
          "data": {
            "image/png": "[encoded data removed]",
            "text/plain": [
              "<Figure size 432x288 with 1 Axes>"
            ]
          },
          "metadata": {
            "tags": []
          }
        },
        {
          "output_type": "stream",
          "text": [
            "The model guess the above sign to be W, and the sign is W, therefore the model's is correct :)!\n"
          ],
          "name": "stdout"
        },
        {
          "output_type": "display_data",
          "data": {
            "image/png": "[encoded data removed]",
            "text/plain": [
              "<Figure size 432x288 with 1 Axes>"
            ]
          },
          "metadata": {
            "tags": []
          }
        },
        {
          "output_type": "stream",
          "text": [
            "The model guess the above sign to be V, and the sign is V, therefore the model's is correct :)!\n"
          ],
          "name": "stdout"
        },
        {
          "output_type": "display_data",
          "data": {
            "image/png": "[encoded data removed]",
            "text/plain": [
              "<Figure size 432x288 with 1 Axes>"
            ]
          },
          "metadata": {
            "tags": []
          }
        },
        {
          "output_type": "stream",
          "text": [
            "The model guess the above sign to be V, and the sign is V, therefore the model's is correct :)!\n"
          ],
          "name": "stdout"
        },
        {
          "output_type": "display_data",
          "data": {
            "image/png": "[encoded data removed]",
            "text/plain": [
              "<Figure size 432x288 with 1 Axes>"
            ]
          },
          "metadata": {
            "tags": []
          }
        },
        {
          "output_type": "stream",
          "text": [
            "The model guess the above sign to be P, and the sign is P, therefore the model's is correct :)!\n"
          ],
          "name": "stdout"
        },
        {
          "output_type": "display_data",
          "data": {
            "image/png": "[encoded data removed]",
            "text/plain": [
              "<Figure size 432x288 with 1 Axes>"
            ]
          },
          "metadata": {
            "tags": []
          }
        },
        {
          "output_type": "stream",
          "text": [
            "The model guess the above sign to be I, and the sign is I, therefore the model's is correct :)!\n"
          ],
          "name": "stdout"
        },
        {
          "output_type": "display_data",
          "data": {
            "image/png": "[encoded data removed]",
            "text/plain": [
              "<Figure size 432x288 with 1 Axes>"
            ]
          },
          "metadata": {
            "tags": []
          }
        },
        {
          "output_type": "stream",
          "text": [
            "The model guess the above sign to be E, and the sign is E, therefore the model's is correct :)!\n"
          ],
          "name": "stdout"
        },
        {
          "output_type": "display_data",
          "data": {
            "image/png": "[encoded data removed]",
            "text/plain": [
              "<Figure size 432x288 with 1 Axes>"
            ]
          },
          "metadata": {
            "tags": []
          }
        },
        {
          "output_type": "stream",
          "text": [
            "The model guess the above sign to be I, and the sign is I, therefore the model's is correct :)!\n"
          ],
          "name": "stdout"
        },
        {
          "output_type": "display_data",
          "data": {
            "image/png": "[encoded data removed]",
            "text/plain": [
              "<Figure size 432x288 with 1 Axes>"
            ]
          },
          "metadata": {
            "tags": []
          }
        },
        {
          "output_type": "stream",
          "text": [
            "The model guess the above sign to be O, and the sign is O, therefore the model's is correct :)!\n"
          ],
          "name": "stdout"
        },
        {
          "output_type": "display_data",
          "data": {
            "image/png": "[encoded data removed]",
            "text/plain": [
              "<Figure size 432x288 with 1 Axes>"
            ]
          },
          "metadata": {
            "tags": []
          }
        },
        {
          "output_type": "stream",
          "text": [
            "The model guess the above sign to be V, and the sign is V, therefore the model's is correct :)!\n"
          ],
          "name": "stdout"
        },
        {
          "output_type": "display_data",
          "data": {
            "image/png": "[encoded data removed]",
            "text/plain": [
              "<Figure size 432x288 with 1 Axes>"
            ]
          },
          "metadata": {
            "tags": []
          }
        },
        {
          "output_type": "stream",
          "text": [
            "The model guess the above sign to be S, and the sign is S, therefore the model's is correct :)!\n"
          ],
          "name": "stdout"
        },
        {
          "output_type": "display_data",
          "data": {
            "image/png": "[encoded data removed]",
            "text/plain": [
              "<Figure size 432x288 with 1 Axes>"
            ]
          },
          "metadata": {
            "tags": []
          }
        },
        {
          "output_type": "stream",
          "text": [
            "The model guess the above sign to be F, and the sign is F, therefore the model's is correct :)!\n"
          ],
          "name": "stdout"
        },
        {
          "output_type": "display_data",
          "data": {
            "image/png": "[encoded data removed]",
            "text/plain": [
              "<Figure size 432x288 with 1 Axes>"
            ]
          },
          "metadata": {
            "tags": []
          }
        },
        {
          "output_type": "stream",
          "text": [
            "The model guess the above sign to be M, and the sign is M, therefore the model's is correct :)!\n"
          ],
          "name": "stdout"
        },
        {
          "output_type": "display_data",
          "data": {
            "image/png": "[encoded data removed]",
            "text/plain": [
              "<Figure size 432x288 with 1 Axes>"
            ]
          },
          "metadata": {
            "tags": []
          }
        },
        {
          "output_type": "stream",
          "text": [
            "The model guess the above sign to be K, and the sign is K, therefore the model's is correct :)!\n"
          ],
          "name": "stdout"
        },
        {
          "output_type": "display_data",
          "data": {
            "image/png": "[encoded data removed]",
            "text/plain": [
              "<Figure size 432x288 with 1 Axes>"
            ]
          },
          "metadata": {
            "tags": []
          }
        },
        {
          "output_type": "stream",
          "text": [
            "The model guess the above sign to be M, and the sign is M, therefore the model's is correct :)!\n"
          ],
          "name": "stdout"
        },
        {
          "output_type": "display_data",
          "data": {
            "image/png": "[encoded data removed]",
            "text/plain": [
              "<Figure size 432x288 with 1 Axes>"
            ]
          },
          "metadata": {
            "tags": []
          }
        },
        {
          "output_type": "stream",
          "text": [
            "The model guess the above sign to be I, and the sign is B, therefore the model's is incorrect :(!\n"
          ],
          "name": "stdout"
        },
        {
          "output_type": "display_data",
          "data": {
            "image/png": "[encoded data removed]",
            "text/plain": [
              "<Figure size 432x288 with 1 Axes>"
            ]
          },
          "metadata": {
            "tags": []
          }
        },
        {
          "output_type": "stream",
          "text": [
            "The model guess the above sign to be C, and the sign is C, therefore the model's is correct :)!\n"
          ],
          "name": "stdout"
        },
        {
          "output_type": "display_data",
          "data": {
            "image/png": "[encoded data removed]",
            "text/plain": [
              "<Figure size 432x288 with 1 Axes>"
            ]
          },
          "metadata": {
            "tags": []
          }
        },
        {
          "output_type": "stream",
          "text": [
            "The model guess the above sign to be P, and the sign is P, therefore the model's is correct :)!\n"
          ],
          "name": "stdout"
        },
        {
          "output_type": "display_data",
          "data": {
            "image/png": "[encoded data removed]",
            "text/plain": [
              "<Figure size 432x288 with 1 Axes>"
            ]
          },
          "metadata": {
            "tags": []
          }
        },
        {
          "output_type": "stream",
          "text": [
            "The model guess the above sign to be T, and the sign is T, therefore the model's is correct :)!\n",
            "The model's test accuracy is 96.67%\n"
          ],
          "name": "stdout"
        }
      ]
    },
    {
      "cell_type": "code",
      "metadata": {
        "id": "Bw4wJYdmsN7N",
        "colab_type": "code",
        "colab": {}
      },
      "source": [
        ""
      ],
      "execution_count": 0,
      "outputs": []
    }
  ]
}